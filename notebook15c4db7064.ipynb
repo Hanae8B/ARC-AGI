{
 "cells": [
  {
   "cell_type": "code",
   "execution_count": 1,
   "id": "4b77cb19",
   "metadata": {
    "_cell_guid": "b1076dfc-b9ad-4769-8c92-a6c4dae69d19",
    "_uuid": "8f2839f25d086af736a60e9eeb907d3b93b6e0e5",
    "execution": {
     "iopub.execute_input": "2024-08-08T19:37:37.325141Z",
     "iopub.status.busy": "2024-08-08T19:37:37.324088Z",
     "iopub.status.idle": "2024-08-08T19:37:38.288892Z",
     "shell.execute_reply": "2024-08-08T19:37:38.287622Z"
    },
    "papermill": {
     "duration": 0.97233,
     "end_time": "2024-08-08T19:37:38.291674",
     "exception": false,
     "start_time": "2024-08-08T19:37:37.319344",
     "status": "completed"
    },
    "tags": []
   },
   "outputs": [
    {
     "name": "stdout",
     "output_type": "stream",
     "text": [
      "/kaggle/input/arc-prize-2024/arc-agi_training_solutions.json\n",
      "/kaggle/input/arc-prize-2024/arc-agi_evaluation_solutions.json\n",
      "/kaggle/input/arc-prize-2024/arc-agi_evaluation_challenges.json\n",
      "/kaggle/input/arc-prize-2024/sample_submission.json\n",
      "/kaggle/input/arc-prize-2024/arc-agi_training_challenges.json\n",
      "/kaggle/input/arc-prize-2024/arc-agi_test_challenges.json\n"
     ]
    }
   ],
   "source": [
    "# This Python 3 environment comes with many helpful analytics libraries installed\n",
    "# It is defined by the kaggle/python Docker image: https://github.com/kaggle/docker-python\n",
    "# For example, here's several helpful packages to load\n",
    "\n",
    "import numpy as np # linear algebra\n",
    "import pandas as pd # data processing, CSV file I/O (e.g. pd.read_csv)\n",
    "\n",
    "# Input data files are available in the read-only \"../input/\" directory\n",
    "# For example, running this (by clicking run or pressing Shift+Enter) will list all files under the input directory\n",
    "\n",
    "import os\n",
    "for dirname, _, filenames in os.walk('/kaggle/input'):\n",
    "    for filename in filenames:\n",
    "        print(os.path.join(dirname, filename))\n",
    "\n",
    "# You can write up to 20GB to the current directory (/kaggle/working/) that gets preserved as output when you create a version using \"Save & Run All\" \n",
    "# You can also write temporary files to /kaggle/temp/, but they won't be saved outside of the current session"
   ]
  },
  {
   "cell_type": "code",
   "execution_count": 2,
   "id": "9392f08b",
   "metadata": {
    "execution": {
     "iopub.execute_input": "2024-08-08T19:37:38.299408Z",
     "iopub.status.busy": "2024-08-08T19:37:38.298867Z",
     "iopub.status.idle": "2024-08-08T19:37:38.619138Z",
     "shell.execute_reply": "2024-08-08T19:37:38.617316Z"
    },
    "papermill": {
     "duration": 0.327648,
     "end_time": "2024-08-08T19:37:38.622487",
     "exception": false,
     "start_time": "2024-08-08T19:37:38.294839",
     "status": "completed"
    },
    "tags": []
   },
   "outputs": [],
   "source": [
    "import json\n",
    "\n",
    "def load_json(filepath):\n",
    "    with open(filepath, 'r') as file:\n",
    "        return json.load(file)\n",
    "\n",
    "#load the data\n",
    "training_solutions = load_json('/kaggle/input/arc-prize-2024/arc-agi_training_solutions.json')\n",
    "evaluation_solutions = load_json('/kaggle/input/arc-prize-2024/arc-agi_evaluation_solutions.json')\n",
    "training_challenges = load_json('/kaggle/input/arc-prize-2024/arc-agi_training_challenges.json')\n",
    "evaluation_challenges = load_json('/kaggle/input/arc-prize-2024/arc-agi_evaluation_challenges.json')\n",
    "test_challenges = load_json('/kaggle/input/arc-prize-2024/arc-agi_test_challenges.json')\n",
    "sample_submission = load_json('/kaggle/input/arc-prize-2024/sample_submission.json')"
   ]
  },
  {
   "cell_type": "code",
   "execution_count": 3,
   "id": "5c040da7",
   "metadata": {
    "execution": {
     "iopub.execute_input": "2024-08-08T19:37:38.631377Z",
     "iopub.status.busy": "2024-08-08T19:37:38.630915Z",
     "iopub.status.idle": "2024-08-08T19:37:38.641842Z",
     "shell.execute_reply": "2024-08-08T19:37:38.640267Z"
    },
    "papermill": {
     "duration": 0.018499,
     "end_time": "2024-08-08T19:37:38.644902",
     "exception": false,
     "start_time": "2024-08-08T19:37:38.626403",
     "status": "completed"
    },
    "tags": []
   },
   "outputs": [
    {
     "name": "stdout",
     "output_type": "stream",
     "text": [
      "Training Solutions:\n",
      "Key: 007bbfb7\n",
      "Sample Data: [[[7, 0, 7, 0, 0, 0, 7, 0, 7], [7, 0, 7, 0, 0, 0, 7, 0, 7], [7, 7, 0, 0, 0, 0, 7, 7, 0], [7, 0, 7, 0, 0, 0, 7, 0, 7], [7, 0, 7, 0, 0, 0, 7, 0, 7], [7, 7, 0, 0, 0, 0, 7, 7, 0], [7, 0, 7, 7, 0, 7, 0, 0, 0], [7, 0, 7, 7, 0, 7, 0, 0, 0], [7, 7, 0, 7, 7, 0, 0, 0, 0]]]\n",
      "\n",
      "Training Challenges:\n",
      "Key: 007bbfb7\n",
      "Sample Data: {'test': [{'input': [[7, 0, 7], [7, 0, 7], [7, 7, 0]]}], 'train': [{'input': [[0, 7, 7], [7, 7, 7], [0, 7, 7]], 'output': [[0, 0, 0, 0, 7, 7, 0, 7, 7], [0, 0, 0, 7, 7, 7, 7, 7, 7], [0, 0, 0, 0, 7, 7, 0, 7, 7], [0, 7, 7, 0, 7, 7, 0, 7, 7], [7, 7, 7, 7, 7, 7, 7, 7, 7], [0, 7, 7, 0, 7, 7, 0, 7, 7], [0, 0, 0, 0, 7, 7, 0, 7, 7], [0, 0, 0, 7, 7, 7, 7, 7, 7], [0, 0, 0, 0, 7, 7, 0, 7, 7]]}, {'input': [[4, 0, 4], [0, 0, 0], [0, 4, 0]], 'output': [[4, 0, 4, 0, 0, 0, 4, 0, 4], [0, 0, 0, 0, 0, 0, 0, 0, 0], [0, 4, 0, 0, 0, 0, 0, 4, 0], [0, 0, 0, 0, 0, 0, 0, 0, 0], [0, 0, 0, 0, 0, 0, 0, 0, 0], [0, 0, 0, 0, 0, 0, 0, 0, 0], [0, 0, 0, 4, 0, 4, 0, 0, 0], [0, 0, 0, 0, 0, 0, 0, 0, 0], [0, 0, 0, 0, 4, 0, 0, 0, 0]]}, {'input': [[0, 0, 0], [0, 0, 2], [2, 0, 2]], 'output': [[0, 0, 0, 0, 0, 0, 0, 0, 0], [0, 0, 0, 0, 0, 0, 0, 0, 0], [0, 0, 0, 0, 0, 0, 0, 0, 0], [0, 0, 0, 0, 0, 0, 0, 0, 0], [0, 0, 0, 0, 0, 0, 0, 0, 2], [0, 0, 0, 0, 0, 0, 2, 0, 2], [0, 0, 0, 0, 0, 0, 0, 0, 0], [0, 0, 2, 0, 0, 0, 0, 0, 2], [2, 0, 2, 0, 0, 0, 2, 0, 2]]}, {'input': [[6, 6, 0], [6, 0, 0], [0, 6, 6]], 'output': [[6, 6, 0, 6, 6, 0, 0, 0, 0], [6, 0, 0, 6, 0, 0, 0, 0, 0], [0, 6, 6, 0, 6, 6, 0, 0, 0], [6, 6, 0, 0, 0, 0, 0, 0, 0], [6, 0, 0, 0, 0, 0, 0, 0, 0], [0, 6, 6, 0, 0, 0, 0, 0, 0], [0, 0, 0, 6, 6, 0, 6, 6, 0], [0, 0, 0, 6, 0, 0, 6, 0, 0], [0, 0, 0, 0, 6, 6, 0, 6, 6]]}, {'input': [[2, 2, 2], [0, 0, 0], [0, 2, 2]], 'output': [[2, 2, 2, 2, 2, 2, 2, 2, 2], [0, 0, 0, 0, 0, 0, 0, 0, 0], [0, 2, 2, 0, 2, 2, 0, 2, 2], [0, 0, 0, 0, 0, 0, 0, 0, 0], [0, 0, 0, 0, 0, 0, 0, 0, 0], [0, 0, 0, 0, 0, 0, 0, 0, 0], [0, 0, 0, 2, 2, 2, 2, 2, 2], [0, 0, 0, 0, 0, 0, 0, 0, 0], [0, 0, 0, 0, 2, 2, 0, 2, 2]]}]}\n",
      "\n",
      "Evaluation Solutions:\n",
      "Key: 00576224\n",
      "Sample Data: [[[3, 2, 3, 2, 3, 2], [7, 8, 7, 8, 7, 8], [2, 3, 2, 3, 2, 3], [8, 7, 8, 7, 8, 7], [3, 2, 3, 2, 3, 2], [7, 8, 7, 8, 7, 8]]]\n",
      "\n",
      "Evaluation Challenges:\n",
      "Key: 00576224\n",
      "Sample Data: {'test': [{'input': [[3, 2], [7, 8]]}], 'train': [{'input': [[8, 6], [6, 4]], 'output': [[8, 6, 8, 6, 8, 6], [6, 4, 6, 4, 6, 4], [6, 8, 6, 8, 6, 8], [4, 6, 4, 6, 4, 6], [8, 6, 8, 6, 8, 6], [6, 4, 6, 4, 6, 4]]}, {'input': [[7, 9], [4, 3]], 'output': [[7, 9, 7, 9, 7, 9], [4, 3, 4, 3, 4, 3], [9, 7, 9, 7, 9, 7], [3, 4, 3, 4, 3, 4], [7, 9, 7, 9, 7, 9], [4, 3, 4, 3, 4, 3]]}]}\n",
      "\n",
      "Test Challenges:\n",
      "Key: 007bbfb7\n",
      "Sample Data: {'test': [{'input': [[7, 0, 7], [7, 0, 7], [7, 7, 0]]}], 'train': [{'input': [[0, 7, 7], [7, 7, 7], [0, 7, 7]], 'output': [[0, 0, 0, 0, 7, 7, 0, 7, 7], [0, 0, 0, 7, 7, 7, 7, 7, 7], [0, 0, 0, 0, 7, 7, 0, 7, 7], [0, 7, 7, 0, 7, 7, 0, 7, 7], [7, 7, 7, 7, 7, 7, 7, 7, 7], [0, 7, 7, 0, 7, 7, 0, 7, 7], [0, 0, 0, 0, 7, 7, 0, 7, 7], [0, 0, 0, 7, 7, 7, 7, 7, 7], [0, 0, 0, 0, 7, 7, 0, 7, 7]]}, {'input': [[4, 0, 4], [0, 0, 0], [0, 4, 0]], 'output': [[4, 0, 4, 0, 0, 0, 4, 0, 4], [0, 0, 0, 0, 0, 0, 0, 0, 0], [0, 4, 0, 0, 0, 0, 0, 4, 0], [0, 0, 0, 0, 0, 0, 0, 0, 0], [0, 0, 0, 0, 0, 0, 0, 0, 0], [0, 0, 0, 0, 0, 0, 0, 0, 0], [0, 0, 0, 4, 0, 4, 0, 0, 0], [0, 0, 0, 0, 0, 0, 0, 0, 0], [0, 0, 0, 0, 4, 0, 0, 0, 0]]}, {'input': [[0, 0, 0], [0, 0, 2], [2, 0, 2]], 'output': [[0, 0, 0, 0, 0, 0, 0, 0, 0], [0, 0, 0, 0, 0, 0, 0, 0, 0], [0, 0, 0, 0, 0, 0, 0, 0, 0], [0, 0, 0, 0, 0, 0, 0, 0, 0], [0, 0, 0, 0, 0, 0, 0, 0, 2], [0, 0, 0, 0, 0, 0, 2, 0, 2], [0, 0, 0, 0, 0, 0, 0, 0, 0], [0, 0, 2, 0, 0, 0, 0, 0, 2], [2, 0, 2, 0, 0, 0, 2, 0, 2]]}, {'input': [[6, 6, 0], [6, 0, 0], [0, 6, 6]], 'output': [[6, 6, 0, 6, 6, 0, 0, 0, 0], [6, 0, 0, 6, 0, 0, 0, 0, 0], [0, 6, 6, 0, 6, 6, 0, 0, 0], [6, 6, 0, 0, 0, 0, 0, 0, 0], [6, 0, 0, 0, 0, 0, 0, 0, 0], [0, 6, 6, 0, 0, 0, 0, 0, 0], [0, 0, 0, 6, 6, 0, 6, 6, 0], [0, 0, 0, 6, 0, 0, 6, 0, 0], [0, 0, 0, 0, 6, 6, 0, 6, 6]]}, {'input': [[2, 2, 2], [0, 0, 0], [0, 2, 2]], 'output': [[2, 2, 2, 2, 2, 2, 2, 2, 2], [0, 0, 0, 0, 0, 0, 0, 0, 0], [0, 2, 2, 0, 2, 2, 0, 2, 2], [0, 0, 0, 0, 0, 0, 0, 0, 0], [0, 0, 0, 0, 0, 0, 0, 0, 0], [0, 0, 0, 0, 0, 0, 0, 0, 0], [0, 0, 0, 2, 2, 2, 2, 2, 2], [0, 0, 0, 0, 0, 0, 0, 0, 0], [0, 0, 0, 0, 2, 2, 0, 2, 2]]}]}\n",
      "\n",
      "Sample submission:\n",
      "Key: 007bbfb7\n",
      "Sample Data: [{'attempt_1': [[0, 0], [0, 0]], 'attempt_2': [[0, 0], [0, 0]]}]\n",
      "\n"
     ]
    }
   ],
   "source": [
    "def inspect_data(data, num_samples=1):\n",
    "    for key, value in list(data.items())[:num_samples]:\n",
    "        print(f\"Key: {key}\")\n",
    "        print(f\"Sample Data: {value}\\n\")\n",
    "        \n",
    "print(\"Training Solutions:\")\n",
    "inspect_data(training_solutions)\n",
    "\n",
    "print(\"Training Challenges:\")\n",
    "inspect_data(training_challenges)\n",
    "\n",
    "print(\"Evaluation Solutions:\")\n",
    "inspect_data(evaluation_solutions)\n",
    "\n",
    "print(\"Evaluation Challenges:\")\n",
    "inspect_data(evaluation_challenges)\n",
    "\n",
    "print(\"Test Challenges:\")\n",
    "inspect_data(test_challenges)\n",
    "\n",
    "print(\"Sample submission:\")\n",
    "inspect_data(sample_submission)"
   ]
  },
  {
   "cell_type": "code",
   "execution_count": 4,
   "id": "5d3dd4ed",
   "metadata": {
    "execution": {
     "iopub.execute_input": "2024-08-08T19:37:38.652890Z",
     "iopub.status.busy": "2024-08-08T19:37:38.652489Z",
     "iopub.status.idle": "2024-08-08T19:37:38.658584Z",
     "shell.execute_reply": "2024-08-08T19:37:38.657291Z"
    },
    "papermill": {
     "duration": 0.013523,
     "end_time": "2024-08-08T19:37:38.661475",
     "exception": false,
     "start_time": "2024-08-08T19:37:38.647952",
     "status": "completed"
    },
    "tags": []
   },
   "outputs": [
    {
     "name": "stdout",
     "output_type": "stream",
     "text": [
      "Sample Key: 007bbfb7\n",
      "Sample Data: [[[7, 0, 7, 0, 0, 0, 7, 0, 7], [7, 0, 7, 0, 0, 0, 7, 0, 7], [7, 7, 0, 0, 0, 0, 7, 7, 0], [7, 0, 7, 0, 0, 0, 7, 0, 7], [7, 0, 7, 0, 0, 0, 7, 0, 7], [7, 7, 0, 0, 0, 0, 7, 7, 0], [7, 0, 7, 7, 0, 7, 0, 0, 0], [7, 0, 7, 7, 0, 7, 0, 0, 0], [7, 7, 0, 7, 7, 0, 0, 0, 0]]]\n"
     ]
    }
   ],
   "source": [
    "sample_key = list(training_solutions.keys())[0]\n",
    "print(f\"Sample Key: {sample_key}\")\n",
    "print(\"Sample Data:\", training_solutions[sample_key])"
   ]
  },
  {
   "cell_type": "code",
   "execution_count": 5,
   "id": "dfbe9dd7",
   "metadata": {
    "execution": {
     "iopub.execute_input": "2024-08-08T19:37:38.668945Z",
     "iopub.status.busy": "2024-08-08T19:37:38.668564Z",
     "iopub.status.idle": "2024-08-08T19:37:38.674398Z",
     "shell.execute_reply": "2024-08-08T19:37:38.673252Z"
    },
    "papermill": {
     "duration": 0.012314,
     "end_time": "2024-08-08T19:37:38.676731",
     "exception": false,
     "start_time": "2024-08-08T19:37:38.664417",
     "status": "completed"
    },
    "tags": []
   },
   "outputs": [],
   "source": [
    "#compute the mean, standard deviation, minimum, and maximum values of the data\n",
    "sample_data = training_solutions[sample_key]\n",
    "\n",
    "#convert to numpy array\n",
    "data_array = np.array(sample_data)"
   ]
  },
  {
   "cell_type": "code",
   "execution_count": 6,
   "id": "ad4dcb1f",
   "metadata": {
    "execution": {
     "iopub.execute_input": "2024-08-08T19:37:38.684956Z",
     "iopub.status.busy": "2024-08-08T19:37:38.684589Z",
     "iopub.status.idle": "2024-08-08T19:37:39.578015Z",
     "shell.execute_reply": "2024-08-08T19:37:39.576428Z"
    },
    "papermill": {
     "duration": 0.900742,
     "end_time": "2024-08-08T19:37:39.580670",
     "exception": false,
     "start_time": "2024-08-08T19:37:38.679928",
     "status": "completed"
    },
    "tags": []
   },
   "outputs": [
    {
     "data": {
      "image/png": "[encoded data removed]",
      "text/plain": [
       "<Figure size 600x600 with 2 Axes>"
      ]
     },
     "metadata": {},
     "output_type": "display_data"
    },
    {
     "name": "stdout",
     "output_type": "stream",
     "text": [
      "Grid Summary:\n",
      "Mean Value: 3.11\n",
      "Standard Deviation: 3.48\n",
      "Minimum Value: 0\n",
      "Maximum Value: 7\n",
      "\n",
      "Frequency Distribution:\n",
      "Value 0: 45 occurrences\n",
      "Value 7: 36 occurrences\n"
     ]
    },
    {
     "data": {
      "image/png": "[encoded data removed]",
      "text/plain": [
       "<Figure size 1000x500 with 1 Axes>"
      ]
     },
     "metadata": {},
     "output_type": "display_data"
    },
    {
     "data": {
      "image/png": "[encoded data removed]",
      "text/plain": [
       "<Figure size 1200x600 with 1 Axes>"
      ]
     },
     "metadata": {},
     "output_type": "display_data"
    },
    {
     "name": "stdout",
     "output_type": "stream",
     "text": [
      "Histogram Summary:\n",
      "Mean Value: 3.11\n",
      "Median Value: 0.00\n",
      "Minimum Value: 0\n",
      "Maximum Value: 7\n",
      "\n",
      "Frequency Distribution:\n",
      "Value 0: 45 occurrences\n",
      "Value 7: 36 occurrences\n",
      "Boxplot Summary:\n",
      "Median Value: 0.00\n",
      "1st Quartile (Q1): 0.00\n",
      "3rd Quartile (Q3): 7.00\n",
      "Interquartile Range (IQR): 7.00\n",
      "Minimum Value: 0\n",
      "Maximum Value: 7\n",
      "Number of Outliers: 0\n"
     ]
    }
   ],
   "source": [
    "import matplotlib.pyplot as plt\n",
    "from collections import Counter\n",
    "\n",
    "def plot_grid(data, title=\"Grid Visualization\"):\n",
    "    #remove any singleton dimensions\n",
    "    data_squeezed = np.squeeze(data)\n",
    "    plt.figure(figsize=(6, 6))\n",
    "    plt.imshow(data_squeezed, cmap='viridis', interpolation='nearest')\n",
    "    plt.colorbar()\n",
    "    plt.title(title)\n",
    "    plt.show()\n",
    "\n",
    "def summarize_grid(data):\n",
    "    #calculate basic statistics\n",
    "    mean = np.mean(data)\n",
    "    std_dev = np.std(data)\n",
    "    min_val = np.min(data)\n",
    "    max_val = np.max(data)\n",
    "    \n",
    "    #frequency distribution\n",
    "    flat_data = data.flatten()\n",
    "    freq_dist = Counter(flat_data)\n",
    "    \n",
    "    return mean, std_dev, min_val, max_val, freq_dist\n",
    "\n",
    "def print_summary(mean, std_dev, min_val, max_val, freq_dist):\n",
    "    print(\"Grid Summary:\")\n",
    "    print(f\"Mean Value: {mean:.2f}\")\n",
    "    print(f\"Standard Deviation: {std_dev:.2f}\")\n",
    "    print(f\"Minimum Value: {min_val}\")\n",
    "    print(f\"Maximum Value: {max_val}\")\n",
    "    print(\"\\nFrequency Distribution:\")\n",
    "    for value, count in sorted(freq_dist.items()):\n",
    "        print(f\"Value {value}: {count} occurrences\")\n",
    "\n",
    "def plot_histogram(data, title=\"Histogram of Data Values\"):\n",
    "    plt.figure(figsize=(10, 5))\n",
    "    plt.hist(data.flatten(), bins=range(int(np.min(data)), int(np.max(data)) + 2), color='blue', alpha=0.7, edgecolor='black')\n",
    "    plt.title(title)\n",
    "    plt.xlabel('Value')\n",
    "    plt.ylabel('Frequency')\n",
    "    plt.show()\n",
    "\n",
    "def plot_value_distribution(data, title=\"Value Distribution\"):\n",
    "    plt.figure(figsize=(12, 6))\n",
    "    plt.boxplot(data.flatten(), vert=False, patch_artist=True)\n",
    "    plt.title(title)\n",
    "    plt.xlabel('Value')\n",
    "    plt.show()\n",
    "\n",
    "def summarize_histogram(data):\n",
    "    flat_data = data.flatten()\n",
    "    mean = np.mean(flat_data)\n",
    "    median = np.median(flat_data)\n",
    "    min_val = np.min(flat_data)\n",
    "    max_val = np.max(flat_data)\n",
    "    unique, counts = np.unique(flat_data, return_counts=True)\n",
    "    freq_dist = dict(zip(unique, counts))\n",
    "    \n",
    "    print(\"Histogram Summary:\")\n",
    "    print(f\"Mean Value: {mean:.2f}\")\n",
    "    print(f\"Median Value: {median:.2f}\")\n",
    "    print(f\"Minimum Value: {min_val}\")\n",
    "    print(f\"Maximum Value: {max_val}\")\n",
    "    print(\"\\nFrequency Distribution:\")\n",
    "    for value, count in sorted(freq_dist.items()):\n",
    "        print(f\"Value {value}: {count} occurrences\")\n",
    "\n",
    "def summarize_boxplot(data):\n",
    "    flat_data = data.flatten()\n",
    "    median = np.median(flat_data)\n",
    "    q1 = np.percentile(flat_data, 25)\n",
    "    q3 = np.percentile(flat_data, 75)\n",
    "    iqr = q3 - q1\n",
    "    min_val = np.min(flat_data)\n",
    "    max_val = np.max(flat_data)\n",
    "    outliers = flat_data[(flat_data < (q1 - 1.5 * iqr)) | (flat_data > (q3 + 1.5 * iqr))]\n",
    "\n",
    "    print(\"Boxplot Summary:\")\n",
    "    print(f\"Median Value: {median:.2f}\")\n",
    "    print(f\"1st Quartile (Q1): {q1:.2f}\")\n",
    "    print(f\"3rd Quartile (Q3): {q3:.2f}\")\n",
    "    print(f\"Interquartile Range (IQR): {iqr:.2f}\")\n",
    "    print(f\"Minimum Value: {min_val}\")\n",
    "    print(f\"Maximum Value: {max_val}\")\n",
    "    print(f\"Number of Outliers: {len(outliers)}\")\n",
    "    if len(outliers) > 0:\n",
    "        print(\"Outlier Values:\", np.unique(outliers))\n",
    "\n",
    "#plot the grid\n",
    "plot_grid(data_array, title=\"Sample Grid Visualization\")\n",
    "\n",
    "#get statistics and frequency distribution\n",
    "mean, std_dev, min_val, max_val, freq_dist = summarize_grid(data_array)\n",
    "\n",
    "#print textual summary\n",
    "print_summary(mean, std_dev, min_val, max_val, freq_dist)\n",
    "\n",
    "#plot histogram and boxplot\n",
    "plot_histogram(data_array, title=\"Histogram of Sample Data Values\")\n",
    "plot_value_distribution(data_array, title=\"Value Distribution in Sample Data\")\n",
    "\n",
    "#print textual summaries for histogram and boxplot\n",
    "summarize_histogram(data_array)\n",
    "summarize_boxplot(data_array)"
   ]
  }
 ],
 "metadata": {
  "kaggle": {
   "accelerator": "none",
   "dataSources": [
    {
     "databundleVersionId": 8951125,
     "sourceId": 67357,
     "sourceType": "competition"
    }
   ],
   "dockerImageVersionId": 30732,
   "isGpuEnabled": false,
   "isInternetEnabled": false,
   "language": "python",
   "sourceType": "notebook"
  },
  "kernelspec": {
   "display_name": "Python 3",
   "language": "python",
   "name": "python3"
  },
  "language_info": {
   "codemirror_mode": {
    "name": "ipython",
    "version": 3
   },
   "file_extension": ".py",
   "mimetype": "text/x-python",
   "name": "python",
   "nbconvert_exporter": "python",
   "pygments_lexer": "ipython3",
   "version": "3.10.13"
  },
  "papermill": {
   "default_parameters": {},
   "duration": 5.742845,
   "end_time": "2024-08-08T19:37:40.106367",
   "environment_variables": {},
   "exception": null,
   "input_path": "__notebook__.ipynb",
   "output_path": "__notebook__.ipynb",
   "parameters": {},
   "start_time": "2024-08-08T19:37:34.363522",
   "version": "2.5.0"
  }
 },
 "nbformat": 4,
 "nbformat_minor": 5
}
