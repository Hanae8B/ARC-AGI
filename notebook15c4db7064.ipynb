{
 "cells": [
  {
   "cell_type": "code",
   "execution_count": 1,
   "id": "84914b72",
   "metadata": {
    "_cell_guid": "b1076dfc-b9ad-4769-8c92-a6c4dae69d19",
    "_uuid": "8f2839f25d086af736a60e9eeb907d3b93b6e0e5",
    "execution": {
     "iopub.execute_input": "2024-06-29T13:30:43.568037Z",
     "iopub.status.busy": "2024-06-29T13:30:43.567627Z",
     "iopub.status.idle": "2024-06-29T13:30:44.432057Z",
     "shell.execute_reply": "2024-06-29T13:30:44.430306Z"
    },
    "papermill": {
     "duration": 0.88014,
     "end_time": "2024-06-29T13:30:44.434588",
     "exception": false,
     "start_time": "2024-06-29T13:30:43.554448",
     "status": "completed"
    },
    "tags": []
   },
   "outputs": [
    {
     "name": "stdout",
     "output_type": "stream",
     "text": [
      "/kaggle/input/arc-prize-2024/arc-agi_training_solutions.json\n",
      "/kaggle/input/arc-prize-2024/arc-agi_evaluation_solutions.json\n",
      "/kaggle/input/arc-prize-2024/arc-agi_evaluation_challenges.json\n",
      "/kaggle/input/arc-prize-2024/sample_submission.json\n",
      "/kaggle/input/arc-prize-2024/arc-agi_training_challenges.json\n",
      "/kaggle/input/arc-prize-2024/arc-agi_test_challenges.json\n"
     ]
    }
   ],
   "source": [
    "# This Python 3 environment comes with many helpful analytics libraries installed\n",
    "# It is defined by the kaggle/python Docker image: https://github.com/kaggle/docker-python\n",
    "# For example, here's several helpful packages to load\n",
    "\n",
    "import numpy as np # linear algebra\n",
    "import pandas as pd # data processing, CSV file I/O (e.g. pd.read_csv)\n",
    "\n",
    "# Input data files are available in the read-only \"../input/\" directory\n",
    "# For example, running this (by clicking run or pressing Shift+Enter) will list all files under the input directory\n",
    "\n",
    "import os\n",
    "for dirname, _, filenames in os.walk('/kaggle/input'):\n",
    "    for filename in filenames:\n",
    "        print(os.path.join(dirname, filename))\n",
    "\n",
    "# You can write up to 20GB to the current directory (/kaggle/working/) that gets preserved as output when you create a version using \"Save & Run All\" \n",
    "# You can also write temporary files to /kaggle/temp/, but they won't be saved outside of the current session"
   ]
  },
  {
   "cell_type": "code",
   "execution_count": 2,
   "id": "18416d94",
   "metadata": {
    "execution": {
     "iopub.execute_input": "2024-06-29T13:30:44.459636Z",
     "iopub.status.busy": "2024-06-29T13:30:44.459174Z",
     "iopub.status.idle": "2024-06-29T13:30:44.464054Z",
     "shell.execute_reply": "2024-06-29T13:30:44.463005Z"
    },
    "papermill": {
     "duration": 0.02014,
     "end_time": "2024-06-29T13:30:44.466334",
     "exception": false,
     "start_time": "2024-06-29T13:30:44.446194",
     "status": "completed"
    },
    "tags": []
   },
   "outputs": [],
   "source": [
    "#suppress warnings\n",
    "import warnings\n",
    "warnings.filterwarnings('ignore')"
   ]
  },
  {
   "cell_type": "code",
   "execution_count": 3,
   "id": "5f7f2f64",
   "metadata": {
    "execution": {
     "iopub.execute_input": "2024-06-29T13:30:44.491229Z",
     "iopub.status.busy": "2024-06-29T13:30:44.490843Z",
     "iopub.status.idle": "2024-06-29T13:30:46.020945Z",
     "shell.execute_reply": "2024-06-29T13:30:46.019670Z"
    },
    "papermill": {
     "duration": 1.545185,
     "end_time": "2024-06-29T13:30:46.023284",
     "exception": false,
     "start_time": "2024-06-29T13:30:44.478099",
     "status": "completed"
    },
    "tags": []
   },
   "outputs": [
    {
     "name": "stdout",
     "output_type": "stream",
     "text": [
      "Structure of /kaggle/input/arc-prize-2024/arc-agi_training_solutions.json:\n",
      "{\n",
      "  \"007bbfb7\": [\n",
      "    [\n",
      "      [\n",
      "        7,\n",
      "        0,\n",
      "        7,\n",
      "        0,\n",
      "        0,\n",
      "        0,\n",
      "  ...\n",
      "\n",
      "Structure of /kaggle/input/arc-prize-2024/arc-agi_evaluation_challenges.json:\n",
      "{\n",
      "  \"00576224\": {\n",
      "    \"test\": [\n",
      "      {\n",
      "        \"input\": [\n",
      "          [\n",
      "            3,\n",
      "            2\n",
      "...\n",
      "\n",
      "Structure of /kaggle/input/arc-prize-2024/sample_submission.json:\n",
      "{\n",
      "  \"007bbfb7\": [\n",
      "    {\n",
      "      \"attempt_1\": [\n",
      "        [\n",
      "          0,\n",
      "          0\n",
      "        ],\n",
      "        [...\n",
      "\n",
      "Structure of /kaggle/input/arc-prize-2024/arc-agi_training_challenges.json:\n",
      "{\n",
      "  \"007bbfb7\": {\n",
      "    \"test\": [\n",
      "      {\n",
      "        \"input\": [\n",
      "          [\n",
      "            7,\n",
      "            0,...\n",
      "\n",
      "Structure of /kaggle/input/arc-prize-2024/arc-agi_test_challenges.json:\n",
      "{\n",
      "  \"007bbfb7\": {\n",
      "    \"test\": [\n",
      "      {\n",
      "        \"input\": [\n",
      "          [\n",
      "            7,\n",
      "            0,...\n",
      "\n"
     ]
    }
   ],
   "source": [
    "#inspect json files\n",
    "import json\n",
    "\n",
    "#list of JSON file paths\n",
    "json_files = ['/kaggle/input/arc-prize-2024/arc-agi_training_solutions.json',\n",
    "    '/kaggle/input/arc-prize-2024/arc-agi_evaluation_challenges.json',\n",
    "    '/kaggle/input/arc-prize-2024/sample_submission.json',\n",
    "    '/kaggle/input/arc-prize-2024/arc-agi_training_challenges.json',\n",
    "     '/kaggle/input/arc-prize-2024/arc-agi_test_challenges.json'\n",
    "             ]\n",
    "\n",
    "#read and print json structure\n",
    "def print_json_structure(file_path):\n",
    "    try:\n",
    "        with open(file_path, 'r') as file:\n",
    "            data = json.load(file)\n",
    "            print(f\"Structure of {file_path}:\")\n",
    "            print(json.dumps(data, indent=2)[:100] + \"...\\n\")  #only the fist 50 characters will be displayed\n",
    "    except FileNotFoundError:\n",
    "        print(f\"File not found: {file_path}\")\n",
    "\n",
    "#read and print structure of each json file\n",
    "for path in json_files:\n",
    "    print_json_structure(path)"
   ]
  },
  {
   "cell_type": "code",
   "execution_count": 4,
   "id": "f5ba5e34",
   "metadata": {
    "execution": {
     "iopub.execute_input": "2024-06-29T13:30:46.048783Z",
     "iopub.status.busy": "2024-06-29T13:30:46.048387Z",
     "iopub.status.idle": "2024-06-29T13:30:49.562662Z",
     "shell.execute_reply": "2024-06-29T13:30:49.561548Z"
    },
    "papermill": {
     "duration": 3.530135,
     "end_time": "2024-06-29T13:30:49.565284",
     "exception": false,
     "start_time": "2024-06-29T13:30:46.035149",
     "status": "completed"
    },
    "tags": []
   },
   "outputs": [],
   "source": [
    "#load and preprocess ARC dataset into input-output pairs\n",
    "import torch\n",
    "from torch.utils.data import DataLoader, Dataset\n",
    "\n",
    "#file paths\n",
    "train_solutions_path = '/kaggle/input/arc-prize-2024/arc-agi_training_solutions.json'\n",
    "train_challenges_path = '/kaggle/input/arc-prize-2024/arc-agi_training_challenges.json'\n",
    "\n",
    "#load json data\n",
    "def load_json(file_path):\n",
    "    with open(file_path, 'r') as f:\n",
    "        data = json.load(f)\n",
    "    return data\n",
    "\n",
    "#preprocess data into input-output pairs\n",
    "def preprocess_data(challenges, solutions):\n",
    "    data = []\n",
    "    for task_id, task_data in challenges.items():\n",
    "        input_grids = []\n",
    "        output_grids = []\n",
    "        for test_case in task_data['test']:\n",
    "            input_grid = np.array(test_case['input'], dtype=np.float32)\n",
    "            output_grid = np.array(solutions[task_id][0], dtype=np.float32)  #assuming first solution\n",
    "            input_grids.append(input_grid)\n",
    "            output_grids.append(output_grid)\n",
    "        data.append((input_grids, output_grids))\n",
    "    return data\n",
    "\n",
    "#load training challenges and solutions\n",
    "train_challenges = load_json(train_challenges_path)\n",
    "train_solutions = load_json(train_solutions_path)\n",
    "\n",
    "#preprocess training data\n",
    "train_data = preprocess_data(train_challenges, train_solutions)"
   ]
  },
  {
   "cell_type": "code",
   "execution_count": 5,
   "id": "c8ee1a97",
   "metadata": {
    "execution": {
     "iopub.execute_input": "2024-06-29T13:30:49.592965Z",
     "iopub.status.busy": "2024-06-29T13:30:49.592405Z",
     "iopub.status.idle": "2024-06-29T13:30:49.600836Z",
     "shell.execute_reply": "2024-06-29T13:30:49.599676Z"
    },
    "papermill": {
     "duration": 0.023928,
     "end_time": "2024-06-29T13:30:49.603119",
     "exception": false,
     "start_time": "2024-06-29T13:30:49.579191",
     "status": "completed"
    },
    "tags": []
   },
   "outputs": [],
   "source": [
    "#identify the maximum height and width of the grids in the ARC dataset\n",
    "\n",
    "def preprocess_data(challenges, solutions):\n",
    "    max_height = 0\n",
    "    max_width = 0\n",
    "    data = []\n",
    "    \n",
    "    for task_id, task_data in challenges.items():\n",
    "        input_grids = []\n",
    "        output_grids = []\n",
    "        \n",
    "        for test_case in task_data['test']:\n",
    "            input_grid = np.array(test_case['input'], dtype=np.float32)\n",
    "            output_grid = np.array(solutions[task_id][0], dtype=np.float32)  #assuming first solution\n",
    "            \n",
    "            input_height, input_width = input_grid.shape\n",
    "            output_height, output_width = output_grid.shape\n",
    "            \n",
    "            max_height = max(max_height, input_height, output_height)\n",
    "            max_width = max(max_width, input_width, output_width)\n",
    "            \n",
    "            input_grids.append(input_grid)\n",
    "            output_grids.append(output_grid)\n",
    "        \n",
    "        data.append((input_grids, output_grids))\n",
    "    \n",
    "    print(f\"Maximum height: {max_height}, Maximum width: {max_width}\")\n",
    "    return data"
   ]
  },
  {
   "cell_type": "code",
   "execution_count": 6,
   "id": "184bb14b",
   "metadata": {
    "execution": {
     "iopub.execute_input": "2024-06-29T13:30:49.628887Z",
     "iopub.status.busy": "2024-06-29T13:30:49.628470Z",
     "iopub.status.idle": "2024-06-29T13:30:49.815899Z",
     "shell.execute_reply": "2024-06-29T13:30:49.814846Z"
    },
    "papermill": {
     "duration": 0.203587,
     "end_time": "2024-06-29T13:30:49.818546",
     "exception": false,
     "start_time": "2024-06-29T13:30:49.614959",
     "status": "completed"
    },
    "tags": []
   },
   "outputs": [],
   "source": [
    "#load training challenges and solutions\n",
    "train_challenges = load_json(train_challenges_path)\n",
    "train_solutions = load_json(train_solutions_path)"
   ]
  },
  {
   "cell_type": "code",
   "execution_count": 7,
   "id": "a0b79711",
   "metadata": {
    "execution": {
     "iopub.execute_input": "2024-06-29T13:30:49.843957Z",
     "iopub.status.busy": "2024-06-29T13:30:49.843551Z",
     "iopub.status.idle": "2024-06-29T13:30:49.861254Z",
     "shell.execute_reply": "2024-06-29T13:30:49.860009Z"
    },
    "papermill": {
     "duration": 0.033251,
     "end_time": "2024-06-29T13:30:49.863626",
     "exception": false,
     "start_time": "2024-06-29T13:30:49.830375",
     "status": "completed"
    },
    "tags": []
   },
   "outputs": [
    {
     "name": "stdout",
     "output_type": "stream",
     "text": [
      "Maximum height: 30, Maximum width: 30\n"
     ]
    }
   ],
   "source": [
    "#preprocess training data\n",
    "train_data = preprocess_data(train_challenges, train_solutions)"
   ]
  },
  {
   "cell_type": "code",
   "execution_count": 8,
   "id": "0acb7560",
   "metadata": {
    "execution": {
     "iopub.execute_input": "2024-06-29T13:30:49.889661Z",
     "iopub.status.busy": "2024-06-29T13:30:49.889264Z",
     "iopub.status.idle": "2024-06-29T13:30:49.904356Z",
     "shell.execute_reply": "2024-06-29T13:30:49.903233Z"
    },
    "papermill": {
     "duration": 0.031998,
     "end_time": "2024-06-29T13:30:49.907679",
     "exception": false,
     "start_time": "2024-06-29T13:30:49.875681",
     "status": "completed"
    },
    "tags": []
   },
   "outputs": [
    {
     "name": "stdout",
     "output_type": "stream",
     "text": [
      "Sample Input-Output Pairs:\n",
      "Task ID: 007bbfb7\n",
      "Input Grid:\n",
      "[[7 0 7]\n",
      " [7 0 7]\n",
      " [7 7 0]]\n",
      "Output Grid:\n",
      "[[7 0 7 0 0 0 7 0 7]\n",
      " [7 0 7 0 0 0 7 0 7]\n",
      " [7 7 0 0 0 0 7 7 0]\n",
      " [7 0 7 0 0 0 7 0 7]\n",
      " [7 0 7 0 0 0 7 0 7]\n",
      " [7 7 0 0 0 0 7 7 0]\n",
      " [7 0 7 7 0 7 0 0 0]\n",
      " [7 0 7 7 0 7 0 0 0]\n",
      " [7 7 0 7 7 0 0 0 0]]\n",
      "\n",
      "Task ID: 00d62c1b\n",
      "Input Grid:\n",
      "[[0 0 0 0 0 0 0 0 0 0 0 0 0 0 0 0 0 0 0 0]\n",
      " [0 0 3 0 0 0 0 0 0 0 0 0 0 0 0 0 0 0 0 0]\n",
      " [0 3 0 3 3 0 0 0 0 0 0 0 0 0 0 0 0 0 0 0]\n",
      " [0 0 3 0 3 3 3 3 3 0 3 3 0 0 0 0 0 0 0 0]\n",
      " [0 0 0 0 3 0 0 0 0 3 0 0 3 0 0 0 0 0 0 0]\n",
      " [0 0 0 0 3 3 3 3 3 0 3 3 3 0 0 0 0 0 0 0]\n",
      " [0 0 0 0 0 0 0 0 0 0 0 0 0 3 3 3 3 3 0 0]\n",
      " [0 0 0 0 0 0 0 0 0 0 0 0 0 3 0 0 0 3 0 0]\n",
      " [0 0 0 0 0 0 0 0 0 0 0 0 0 3 0 0 0 3 0 0]\n",
      " [0 0 0 0 0 0 0 0 0 3 3 3 3 3 0 0 0 3 0 0]\n",
      " [0 0 0 0 0 0 0 0 0 3 0 0 0 3 0 0 0 3 0 0]\n",
      " [0 0 0 0 0 0 0 0 3 3 3 3 3 3 0 0 0 3 0 0]\n",
      " [0 0 0 0 0 0 3 3 0 3 0 0 0 3 3 3 3 3 0 0]\n",
      " [0 0 3 0 0 0 0 0 3 3 0 0 0 0 0 0 0 0 0 0]\n",
      " [0 3 0 3 0 0 0 0 0 0 0 0 0 0 0 0 0 0 0 0]\n",
      " [0 0 3 0 3 0 3 3 3 3 3 3 0 0 0 0 0 0 0 0]\n",
      " [0 0 0 0 0 0 0 3 0 0 0 3 0 0 0 0 0 0 0 0]\n",
      " [0 0 0 0 0 0 0 3 0 0 0 3 0 0 0 0 0 0 0 0]\n",
      " [0 0 0 0 0 0 0 3 3 3 3 3 0 0 0 0 0 0 0 0]\n",
      " [0 0 0 0 0 0 0 0 0 0 0 0 0 0 0 0 0 0 0 0]]\n",
      "Output Grid:\n",
      "[[0 0 0 0 0 0 0 0 0 0 0 0 0 0 0 0 0 0 0 0]\n",
      " [0 0 3 0 0 0 0 0 0 0 0 0 0 0 0 0 0 0 0 0]\n",
      " [0 3 4 3 3 0 0 0 0 0 0 0 0 0 0 0 0 0 0 0]\n",
      " [0 0 3 0 3 3 3 3 3 0 3 3 0 0 0 0 0 0 0 0]\n",
      " [0 0 0 0 3 4 4 4 4 3 4 4 3 0 0 0 0 0 0 0]\n",
      " [0 0 0 0 3 3 3 3 3 0 3 3 3 0 0 0 0 0 0 0]\n",
      " [0 0 0 0 0 0 0 0 0 0 0 0 0 3 3 3 3 3 0 0]\n",
      " [0 0 0 0 0 0 0 0 0 0 0 0 0 3 4 4 4 3 0 0]\n",
      " [0 0 0 0 0 0 0 0 0 0 0 0 0 3 4 4 4 3 0 0]\n",
      " [0 0 0 0 0 0 0 0 0 3 3 3 3 3 4 4 4 3 0 0]\n",
      " [0 0 0 0 0 0 0 0 0 3 4 4 4 3 4 4 4 3 0 0]\n",
      " [0 0 0 0 0 0 0 0 3 3 3 3 3 3 4 4 4 3 0 0]\n",
      " [0 0 0 0 0 0 3 3 4 3 0 0 0 3 3 3 3 3 0 0]\n",
      " [0 0 3 0 0 0 0 0 3 3 0 0 0 0 0 0 0 0 0 0]\n",
      " [0 3 4 3 0 0 0 0 0 0 0 0 0 0 0 0 0 0 0 0]\n",
      " [0 0 3 0 3 0 3 3 3 3 3 3 0 0 0 0 0 0 0 0]\n",
      " [0 0 0 0 0 0 0 3 4 4 4 3 0 0 0 0 0 0 0 0]\n",
      " [0 0 0 0 0 0 0 3 4 4 4 3 0 0 0 0 0 0 0 0]\n",
      " [0 0 0 0 0 0 0 3 3 3 3 3 0 0 0 0 0 0 0 0]\n",
      " [0 0 0 0 0 0 0 0 0 0 0 0 0 0 0 0 0 0 0 0]]\n",
      "\n",
      "Task ID: 017c7c7b\n",
      "Input Grid:\n",
      "[[1 1 1]\n",
      " [0 1 0]\n",
      " [0 1 0]\n",
      " [1 1 1]\n",
      " [0 1 0]\n",
      " [0 1 0]]\n",
      "Output Grid:\n",
      "[[2 2 2]\n",
      " [0 2 0]\n",
      " [0 2 0]\n",
      " [2 2 2]\n",
      " [0 2 0]\n",
      " [0 2 0]\n",
      " [2 2 2]\n",
      " [0 2 0]\n",
      " [0 2 0]]\n",
      "\n",
      "Task ID: 025d127b\n",
      "Input Grid:\n",
      "[[0 0 0 0 0 0 0 0 0 0]\n",
      " [0 4 4 4 4 4 4 0 0 0]\n",
      " [0 4 0 0 0 0 0 4 0 0]\n",
      " [0 0 4 0 0 0 0 0 4 0]\n",
      " [0 0 0 4 0 0 0 0 0 4]\n",
      " [0 0 0 0 4 4 4 4 4 4]\n",
      " [0 0 0 0 0 0 0 0 0 0]\n",
      " [0 0 0 0 0 0 0 0 0 0]\n",
      " [0 0 0 0 0 0 0 0 0 0]\n",
      " [0 0 0 0 0 0 0 0 0 0]]\n",
      "Output Grid:\n",
      "[[0 0 0 0 0 0 0 0 0 0]\n",
      " [0 0 4 4 4 4 4 4 0 0]\n",
      " [0 0 4 0 0 0 0 0 4 0]\n",
      " [0 0 0 4 0 0 0 0 0 4]\n",
      " [0 0 0 0 4 0 0 0 0 4]\n",
      " [0 0 0 0 4 4 4 4 4 4]\n",
      " [0 0 0 0 0 0 0 0 0 0]\n",
      " [0 0 0 0 0 0 0 0 0 0]\n",
      " [0 0 0 0 0 0 0 0 0 0]\n",
      " [0 0 0 0 0 0 0 0 0 0]]\n",
      "\n",
      "Task ID: 045e512c\n",
      "Input Grid:\n",
      "[[0 0 0 0 0 0 0 0 0 0 0 0 0 0 0 0 0 0 0 0 0]\n",
      " [0 0 0 0 0 0 0 0 0 0 0 0 0 0 0 0 0 0 0 0 0]\n",
      " [0 0 0 0 0 0 0 0 0 0 0 0 0 0 0 0 0 0 0 0 0]\n",
      " [0 0 0 0 0 0 0 0 0 0 0 0 0 0 0 0 0 0 0 0 0]\n",
      " [0 0 0 0 0 0 0 0 0 0 4 0 0 0 0 0 0 0 0 0 0]\n",
      " [0 0 0 0 0 0 0 0 0 0 4 0 0 0 0 0 0 0 0 0 0]\n",
      " [0 0 0 0 0 0 0 0 0 0 0 0 0 0 0 0 0 0 0 0 0]\n",
      " [0 0 0 0 0 0 8 8 8 0 2 0 0 0 0 0 0 0 0 0 0]\n",
      " [0 0 0 0 0 0 8 0 8 0 2 0 0 0 0 0 0 0 0 0 0]\n",
      " [0 0 0 0 0 0 8 0 8 0 2 0 0 0 0 0 0 0 0 0 0]\n",
      " [0 0 0 0 0 0 0 0 0 0 0 0 0 0 0 0 0 0 0 0 0]\n",
      " [0 0 0 0 0 0 3 3 3 0 0 0 0 0 0 0 0 0 0 0 0]\n",
      " [0 0 0 0 0 0 0 0 0 0 0 0 0 0 0 0 0 0 0 0 0]\n",
      " [0 0 0 0 0 0 0 0 0 0 0 0 0 0 0 0 0 0 0 0 0]\n",
      " [0 0 0 0 0 0 0 0 0 0 0 0 0 0 0 0 0 0 0 0 0]\n",
      " [0 0 0 0 0 0 0 0 0 0 0 0 0 0 0 0 0 0 0 0 0]\n",
      " [0 0 0 0 0 0 0 0 0 0 0 0 0 0 0 0 0 0 0 0 0]\n",
      " [0 0 0 0 0 0 0 0 0 0 0 0 0 0 0 0 0 0 0 0 0]\n",
      " [0 0 0 0 0 0 0 0 0 0 0 0 0 0 0 0 0 0 0 0 0]\n",
      " [0 0 0 0 0 0 0 0 0 0 0 0 0 0 0 0 0 0 0 0 0]\n",
      " [0 0 0 0 0 0 0 0 0 0 0 0 0 0 0 0 0 0 0 0 0]]\n",
      "Output Grid:\n",
      "[[0 0 0 0 0 0 0 0 0 0 0 0 0 0 4 0 4 0 0 0 0]\n",
      " [0 0 0 0 0 0 0 0 0 0 0 0 0 0 4 0 4 0 0 0 0]\n",
      " [0 0 0 0 0 0 0 0 0 0 0 0 0 0 0 0 0 0 0 0 0]\n",
      " [0 0 0 0 0 0 0 0 0 0 4 4 4 0 0 0 0 0 0 0 0]\n",
      " [0 0 0 0 0 0 0 0 0 0 4 0 4 0 0 0 0 0 0 0 0]\n",
      " [0 0 0 0 0 0 0 0 0 0 4 0 4 0 0 0 0 0 0 0 0]\n",
      " [0 0 0 0 0 0 0 0 0 0 0 0 0 0 0 0 0 0 0 0 0]\n",
      " [0 0 0 0 0 0 8 8 8 0 2 2 2 0 2 2 2 0 2 2 2]\n",
      " [0 0 0 0 0 0 8 0 8 0 2 0 2 0 2 0 2 0 2 0 2]\n",
      " [0 0 0 0 0 0 8 0 8 0 2 0 2 0 2 0 2 0 2 0 2]\n",
      " [0 0 0 0 0 0 0 0 0 0 0 0 0 0 0 0 0 0 0 0 0]\n",
      " [0 0 0 0 0 0 3 3 3 0 0 0 0 0 0 0 0 0 0 0 0]\n",
      " [0 0 0 0 0 0 3 0 3 0 0 0 0 0 0 0 0 0 0 0 0]\n",
      " [0 0 0 0 0 0 3 0 3 0 0 0 0 0 0 0 0 0 0 0 0]\n",
      " [0 0 0 0 0 0 0 0 0 0 0 0 0 0 0 0 0 0 0 0 0]\n",
      " [0 0 0 0 0 0 3 3 3 0 0 0 0 0 0 0 0 0 0 0 0]\n",
      " [0 0 0 0 0 0 3 0 3 0 0 0 0 0 0 0 0 0 0 0 0]\n",
      " [0 0 0 0 0 0 3 0 3 0 0 0 0 0 0 0 0 0 0 0 0]\n",
      " [0 0 0 0 0 0 0 0 0 0 0 0 0 0 0 0 0 0 0 0 0]\n",
      " [0 0 0 0 0 0 3 3 3 0 0 0 0 0 0 0 0 0 0 0 0]\n",
      " [0 0 0 0 0 0 3 0 3 0 0 0 0 0 0 0 0 0 0 0 0]]\n",
      "\n"
     ]
    }
   ],
   "source": [
    "#print sample input-output pairs\n",
    "def print_sample_pairs(challenges, solutions, num_samples=5):\n",
    "    sample_tasks = list(challenges.keys())[:num_samples]\n",
    "    \n",
    "    for task_id in sample_tasks:\n",
    "        task_data = challenges[task_id]\n",
    "        input_grid = np.array(task_data['test'][0]['input'])  #taking the first test case\n",
    "        output_grid = np.array(solutions[task_id][0])  #assuming first solution\n",
    "        \n",
    "        print(f\"Task ID: {task_id}\")\n",
    "        print(\"Input Grid:\")\n",
    "        print(input_grid)\n",
    "        print(\"Output Grid:\")\n",
    "        print(output_grid)\n",
    "        print()\n",
    "\n",
    "#print sample input-output pairs\n",
    "print(\"Sample Input-Output Pairs:\")\n",
    "print_sample_pairs(train_challenges, train_solutions)"
   ]
  },
  {
   "cell_type": "code",
   "execution_count": 9,
   "id": "f6bd6a07",
   "metadata": {
    "execution": {
     "iopub.execute_input": "2024-06-29T13:30:49.934581Z",
     "iopub.status.busy": "2024-06-29T13:30:49.934180Z",
     "iopub.status.idle": "2024-06-29T13:30:50.375619Z",
     "shell.execute_reply": "2024-06-29T13:30:50.373939Z"
    },
    "papermill": {
     "duration": 0.457726,
     "end_time": "2024-06-29T13:30:50.378557",
     "exception": false,
     "start_time": "2024-06-29T13:30:49.920831",
     "status": "completed"
    },
    "tags": []
   },
   "outputs": [
    {
     "data": {
      "image/png": "[encoded data removed]",
      "text/plain": [
       "<Figure size 1000x500 with 2 Axes>"
      ]
     },
     "metadata": {},
     "output_type": "display_data"
    }
   ],
   "source": [
    "import matplotlib.pyplot as plt\n",
    "\n",
    "#visualize sample grids\n",
    "def visualize_grids(input_grid, output_grid):\n",
    "    fig, axes = plt.subplots(1, 2, figsize=(10, 5))\n",
    "    \n",
    "    axes[0].imshow(input_grid, cmap='viridis')\n",
    "    axes[0].set_title('Input Grid')\n",
    "    \n",
    "    axes[1].imshow(output_grid, cmap='viridis')\n",
    "    axes[1].set_title('Output Grid')\n",
    "    \n",
    "    plt.show()\n",
    "\n",
    "sample_task_id = list(train_challenges.keys())[0]\n",
    "sample_input = np.array(train_challenges[sample_task_id]['test'][0]['input'])\n",
    "sample_output = np.array(train_solutions[sample_task_id][0])\n",
    "\n",
    "visualize_grids(sample_input, sample_output)"
   ]
  },
  {
   "cell_type": "code",
   "execution_count": 10,
   "id": "00ac788c",
   "metadata": {
    "execution": {
     "iopub.execute_input": "2024-06-29T13:30:50.408230Z",
     "iopub.status.busy": "2024-06-29T13:30:50.407816Z",
     "iopub.status.idle": "2024-06-29T13:30:50.419628Z",
     "shell.execute_reply": "2024-06-29T13:30:50.418547Z"
    },
    "papermill": {
     "duration": 0.02843,
     "end_time": "2024-06-29T13:30:50.422395",
     "exception": false,
     "start_time": "2024-06-29T13:30:50.393965",
     "status": "completed"
    },
    "tags": []
   },
   "outputs": [],
   "source": [
    "#resize or pad to handle different input and output grids\n",
    "\n",
    "def preprocess_data(challenges, solutions):\n",
    "    data = []\n",
    "    \n",
    "    for task_id, task_data in challenges.items():\n",
    "        input_grids = []\n",
    "        output_grids = []\n",
    "        \n",
    "        max_height = 0\n",
    "        max_width = 0\n",
    "        \n",
    "        #determine maximum dimensions across all test cases for this task\n",
    "        for test_case in task_data['test']:\n",
    "            input_grid = np.array(test_case['input'], dtype=np.float32)\n",
    "            output_grid = np.array(solutions[task_id][0], dtype=np.float32)  #assuming first solution\n",
    "            \n",
    "            max_height = max(max_height, input_grid.shape[0], output_grid.shape[0])\n",
    "            max_width = max(max_width, input_grid.shape[1], output_grid.shape[1])\n",
    "        \n",
    "        #resize or pad all input and output grids to match the maximum dimensions\n",
    "        for test_case in task_data['test']:\n",
    "            input_grid = np.array(test_case['input'], dtype=np.float32)\n",
    "            output_grid = np.array(solutions[task_id][0], dtype=np.float32)  #assuming first solution\n",
    "            \n",
    "            resized_input = np.zeros((max_height, max_width), dtype=np.float32)\n",
    "            resized_output = np.zeros((max_height, max_width), dtype=np.float32)\n",
    "            \n",
    "            resized_input[:input_grid.shape[0], :input_grid.shape[1]] = input_grid\n",
    "            resized_output[:output_grid.shape[0], :output_grid.shape[1]] = output_grid\n",
    "            \n",
    "            input_grids.append(resized_input)\n",
    "            output_grids.append(resized_output)\n",
    "        \n",
    "        #convert input_grids and output_grids to tensors\n",
    "        input_grids = torch.stack([torch.Tensor(grid).unsqueeze(0) for grid in input_grids])\n",
    "        output_grids = torch.stack([torch.Tensor(grid).unsqueeze(0) for grid in output_grids])\n",
    "        \n",
    "        data.append((input_grids, output_grids))\n",
    "    \n",
    "    return data"
   ]
  },
  {
   "cell_type": "code",
   "execution_count": 11,
   "id": "cba02cc1",
   "metadata": {
    "execution": {
     "iopub.execute_input": "2024-06-29T13:30:50.453008Z",
     "iopub.status.busy": "2024-06-29T13:30:50.451893Z",
     "iopub.status.idle": "2024-06-29T13:30:50.483090Z",
     "shell.execute_reply": "2024-06-29T13:30:50.480537Z"
    },
    "papermill": {
     "duration": 0.051398,
     "end_time": "2024-06-29T13:30:50.486784",
     "exception": false,
     "start_time": "2024-06-29T13:30:50.435386",
     "status": "completed"
    },
    "tags": []
   },
   "outputs": [
    {
     "name": "stdout",
     "output_type": "stream",
     "text": [
      "Input grid size statistics:\n",
      "Mean size: [11.33173077 11.77163462]\n",
      "Median size: [10. 10.]\n",
      "Min size: [1 2]\n",
      "Max size: [30 30]\n",
      "\n",
      "Output grid size statistics:\n",
      "Mean size: [ 9.80048077 10.25721154]\n",
      "Median size: [10. 10.]\n",
      "Min size: [1 1]\n",
      "Max size: [30 30]\n"
     ]
    }
   ],
   "source": [
    "#analyze the distribution of grid sizes and identify common patterns of transformation\n",
    "\n",
    "def analyze_task_variability(challenges, solutions):\n",
    "    input_sizes = []\n",
    "    output_sizes = []\n",
    "    \n",
    "    for task_id, task_data in challenges.items():\n",
    "        for test_case in task_data['test']:\n",
    "            input_grid = np.array(test_case['input'])\n",
    "            output_grid = np.array(solutions[task_id][0])  #assuming first solution\n",
    "            \n",
    "            input_sizes.append(input_grid.shape)\n",
    "            output_sizes.append(output_grid.shape)\n",
    "    \n",
    "    input_sizes = np.array(input_sizes)\n",
    "    output_sizes = np.array(output_sizes)\n",
    "    \n",
    "    print(f\"Input grid size statistics:\")\n",
    "    print(f\"Mean size: {np.mean(input_sizes, axis=0)}\")\n",
    "    print(f\"Median size: {np.median(input_sizes, axis=0)}\")\n",
    "    print(f\"Min size: {np.min(input_sizes, axis=0)}\")\n",
    "    print(f\"Max size: {np.max(input_sizes, axis=0)}\")\n",
    "    \n",
    "    print(f\"\\nOutput grid size statistics:\")\n",
    "    print(f\"Mean size: {np.mean(output_sizes, axis=0)}\")\n",
    "    print(f\"Median size: {np.median(output_sizes, axis=0)}\")\n",
    "    print(f\"Min size: {np.min(output_sizes, axis=0)}\")\n",
    "    print(f\"Max size: {np.max(output_sizes, axis=0)}\")\n",
    "\n",
    "#usage example:\n",
    "analyze_task_variability(train_challenges, train_solutions)"
   ]
  },
  {
   "cell_type": "code",
   "execution_count": 12,
   "id": "0c09af35",
   "metadata": {
    "execution": {
     "iopub.execute_input": "2024-06-29T13:30:50.523132Z",
     "iopub.status.busy": "2024-06-29T13:30:50.522204Z",
     "iopub.status.idle": "2024-06-29T13:30:50.534138Z",
     "shell.execute_reply": "2024-06-29T13:30:50.532843Z"
    },
    "papermill": {
     "duration": 0.035626,
     "end_time": "2024-06-29T13:30:50.536945",
     "exception": false,
     "start_time": "2024-06-29T13:30:50.501319",
     "status": "completed"
    },
    "tags": []
   },
   "outputs": [
    {
     "name": "stdout",
     "output_type": "stream",
     "text": [
      "[([array([[7., 0., 7.],\n",
      "       [7., 0., 7.],\n",
      "       [7., 7., 0.]], dtype=float32)], [array([[7., 0., 7., 0., 0., 0., 7., 0., 7.],\n",
      "       [7., 0., 7., 0., 0., 0., 7., 0., 7.],\n",
      "       [7., 7., 0., 0., 0., 0., 7., 7., 0.],\n",
      "       [7., 0., 7., 0., 0., 0., 7., 0., 7.],\n",
      "       [7., 0., 7., 0., 0., 0., 7., 0., 7.],\n",
      "       [7., 7., 0., 0., 0., 0., 7., 7., 0.],\n",
      "       [7., 0., 7., 7., 0., 7., 0., 0., 0.],\n",
      "       [7., 0., 7., 7., 0., 7., 0., 0., 0.],\n",
      "       [7., 7., 0., 7., 7., 0., 0., 0., 0.]], dtype=float32)]), ([array([[0., 0., 0., 0., 0., 0., 0., 0., 0., 0., 0., 0., 0., 0., 0., 0.,\n",
      "        0., 0., 0., 0.],\n",
      "       [0., 0., 3., 0., 0., 0., 0., 0., 0., 0., 0., 0., 0., 0., 0., 0.,\n",
      "        0., 0., 0., 0.],\n",
      "       [0., 3., 0., 3., 3., 0., 0., 0., 0., 0., 0., 0., 0., 0., 0., 0.,\n",
      "        0., 0., 0., 0.],\n",
      "       [0., 0., 3., 0., 3., 3., 3., 3., 3., 0., 3., 3., 0., 0., 0., 0.,\n",
      "        0., 0., 0., 0.],\n",
      "       [0., 0., 0., 0., 3., 0., 0., 0., 0., 3., 0., 0., 3., 0., 0., 0.,\n",
      "        0., 0., 0., 0.],\n",
      "       [0., 0., 0., 0., 3., 3., 3., 3., 3., 0., 3., 3., 3., 0., 0., 0.,\n",
      "        0., 0., 0., 0.],\n",
      "       [0., 0., 0., 0., 0., 0., 0., 0., 0., 0., 0., 0., 0., 3., 3., 3.,\n",
      "        3., 3., 0., 0.],\n",
      "       [0., 0., 0., 0., 0., 0., 0., 0., 0., 0., 0., 0., 0., 3., 0., 0.,\n",
      "        0., 3., 0., 0.],\n",
      "       [0., 0., 0., 0., 0., 0., 0., 0., 0., 0., 0., 0., 0., 3., 0., 0.,\n",
      "        0., 3., 0., 0.],\n",
      "       [0., 0., 0., 0., 0., 0., 0., 0., 0., 3., 3., 3., 3., 3., 0., 0.,\n",
      "        0., 3., 0., 0.],\n",
      "       [0., 0., 0., 0., 0., 0., 0., 0., 0., 3., 0., 0., 0., 3., 0., 0.,\n",
      "        0., 3., 0., 0.],\n",
      "       [0., 0., 0., 0., 0., 0., 0., 0., 3., 3., 3., 3., 3., 3., 0., 0.,\n",
      "        0., 3., 0., 0.],\n",
      "       [0., 0., 0., 0., 0., 0., 3., 3., 0., 3., 0., 0., 0., 3., 3., 3.,\n",
      "        3., 3., 0., 0.],\n",
      "       [0., 0., 3., 0., 0., 0., 0., 0., 3., 3., 0., 0., 0., 0., 0., 0.,\n",
      "        0., 0., 0., 0.],\n",
      "       [0., 3., 0., 3., 0., 0., 0., 0., 0., 0., 0., 0., 0., 0., 0., 0.,\n",
      "        0., 0., 0., 0.],\n",
      "       [0., 0., 3., 0., 3., 0., 3., 3., 3., 3., 3., 3., 0., 0., 0., 0.,\n",
      "        0., 0., 0., 0.],\n",
      "       [0., 0., 0., 0., 0., 0., 0., 3., 0., 0., 0., 3., 0., 0., 0., 0.,\n",
      "        0., 0., 0., 0.],\n",
      "       [0., 0., 0., 0., 0., 0., 0., 3., 0., 0., 0., 3., 0., 0., 0., 0.,\n",
      "        0., 0., 0., 0.],\n",
      "       [0., 0., 0., 0., 0., 0., 0., 3., 3., 3., 3., 3., 0., 0., 0., 0.,\n",
      "        0., 0., 0., 0.],\n",
      "       [0., 0., 0., 0., 0., 0., 0., 0., 0., 0., 0., 0., 0., 0., 0., 0.,\n",
      "        0., 0., 0., 0.]], dtype=float32)], [array([[0., 0., 0., 0., 0., 0., 0., 0., 0., 0., 0., 0., 0., 0., 0., 0.,\n",
      "        0., 0., 0., 0.],\n",
      "       [0., 0., 3., 0., 0., 0., 0., 0., 0., 0., 0., 0., 0., 0., 0., 0.,\n",
      "        0., 0., 0., 0.],\n",
      "       [0., 3., 4., 3., 3., 0., 0., 0., 0., 0., 0., 0., 0., 0., 0., 0.,\n",
      "        0., 0., 0., 0.],\n",
      "       [0., 0., 3., 0., 3., 3., 3., 3., 3., 0., 3., 3., 0., 0., 0., 0.,\n",
      "        0., 0., 0., 0.],\n",
      "       [0., 0., 0., 0., 3., 4., 4., 4., 4., 3., 4., 4., 3., 0., 0., 0.,\n",
      "        0., 0., 0., 0.],\n",
      "       [0., 0., 0., 0., 3., 3., 3., 3., 3., 0., 3., 3., 3., 0., 0., 0.,\n",
      "        0., 0., 0., 0.],\n",
      "       [0., 0., 0., 0., 0., 0., 0., 0., 0., 0., 0., 0., 0., 3., 3., 3.,\n",
      "        3., 3., 0., 0.],\n",
      "       [0., 0., 0., 0., 0., 0., 0., 0., 0., 0., 0., 0., 0., 3., 4., 4.,\n",
      "        4., 3., 0., 0.],\n",
      "       [0., 0., 0., 0., 0., 0., 0., 0., 0., 0., 0., 0., 0., 3., 4., 4.,\n",
      "        4., 3., 0., 0.],\n",
      "       [0., 0., 0., 0., 0., 0., 0., 0., 0., 3., 3., 3., 3., 3., 4., 4.,\n",
      "        4., 3., 0., 0.],\n",
      "       [0., 0., 0., 0., 0., 0., 0., 0., 0., 3., 4., 4., 4., 3., 4., 4.,\n",
      "        4., 3., 0., 0.],\n",
      "       [0., 0., 0., 0., 0., 0., 0., 0., 3., 3., 3., 3., 3., 3., 4., 4.,\n",
      "        4., 3., 0., 0.],\n",
      "       [0., 0., 0., 0., 0., 0., 3., 3., 4., 3., 0., 0., 0., 3., 3., 3.,\n",
      "        3., 3., 0., 0.],\n",
      "       [0., 0., 3., 0., 0., 0., 0., 0., 3., 3., 0., 0., 0., 0., 0., 0.,\n",
      "        0., 0., 0., 0.],\n",
      "       [0., 3., 4., 3., 0., 0., 0., 0., 0., 0., 0., 0., 0., 0., 0., 0.,\n",
      "        0., 0., 0., 0.],\n",
      "       [0., 0., 3., 0., 3., 0., 3., 3., 3., 3., 3., 3., 0., 0., 0., 0.,\n",
      "        0., 0., 0., 0.],\n",
      "       [0., 0., 0., 0., 0., 0., 0., 3., 4., 4., 4., 3., 0., 0., 0., 0.,\n",
      "        0., 0., 0., 0.],\n",
      "       [0., 0., 0., 0., 0., 0., 0., 3., 4., 4., 4., 3., 0., 0., 0., 0.,\n",
      "        0., 0., 0., 0.],\n",
      "       [0., 0., 0., 0., 0., 0., 0., 3., 3., 3., 3., 3., 0., 0., 0., 0.,\n",
      "        0., 0., 0., 0.],\n",
      "       [0., 0., 0., 0., 0., 0., 0., 0., 0., 0., 0., 0., 0., 0., 0., 0.,\n",
      "        0., 0., 0., 0.]], dtype=float32)]), ([array([[1., 1., 1.],\n",
      "       [0., 1., 0.],\n",
      "       [0., 1., 0.],\n",
      "       [1., 1., 1.],\n",
      "       [0., 1., 0.],\n",
      "       [0., 1., 0.]], dtype=float32)], [array([[2., 2., 2.],\n",
      "       [0., 2., 0.],\n",
      "       [0., 2., 0.],\n",
      "       [2., 2., 2.],\n",
      "       [0., 2., 0.],\n",
      "       [0., 2., 0.],\n",
      "       [2., 2., 2.],\n",
      "       [0., 2., 0.],\n",
      "       [0., 2., 0.]], dtype=float32)])]\n"
     ]
    }
   ],
   "source": [
    "#inspect the structure of preprocessed data\n",
    "print(train_data[:3])"
   ]
  },
  {
   "cell_type": "code",
   "execution_count": 13,
   "id": "7f3f9aba",
   "metadata": {
    "execution": {
     "iopub.execute_input": "2024-06-29T13:30:50.564169Z",
     "iopub.status.busy": "2024-06-29T13:30:50.563754Z",
     "iopub.status.idle": "2024-06-29T13:30:50.569317Z",
     "shell.execute_reply": "2024-06-29T13:30:50.568151Z"
    },
    "papermill": {
     "duration": 0.022234,
     "end_time": "2024-06-29T13:30:50.571897",
     "exception": false,
     "start_time": "2024-06-29T13:30:50.549663",
     "status": "completed"
    },
    "tags": []
   },
   "outputs": [],
   "source": [
    "#extract input and output grids\n",
    "input_grids = [item[0][0] for item in train_data]\n",
    "output_grids = [item[1][0] for item in train_data]"
   ]
  },
  {
   "cell_type": "code",
   "execution_count": 14,
   "id": "a78f0b19",
   "metadata": {
    "execution": {
     "iopub.execute_input": "2024-06-29T13:30:50.599850Z",
     "iopub.status.busy": "2024-06-29T13:30:50.599432Z",
     "iopub.status.idle": "2024-06-29T13:30:50.605492Z",
     "shell.execute_reply": "2024-06-29T13:30:50.604403Z"
    },
    "papermill": {
     "duration": 0.023222,
     "end_time": "2024-06-29T13:30:50.608162",
     "exception": false,
     "start_time": "2024-06-29T13:30:50.584940",
     "status": "completed"
    },
    "tags": []
   },
   "outputs": [
    {
     "name": "stdout",
     "output_type": "stream",
     "text": [
      "Shapes of input grids: [(3, 3), (20, 20), (6, 3), (10, 10), (21, 21), (3, 7), (7, 7), (11, 10), (26, 26), (9, 9), (11, 11), (12, 12), (11, 27), (15, 17), (9, 9), (3, 3), (21, 21), (24, 19), (6, 5), (10, 10), (22, 22), (11, 11), (8, 11), (12, 11), (19, 26), (5, 7), (10, 10), (10, 10), (17, 16), (10, 10), (12, 12), (5, 5), (17, 17), (9, 9), (10, 10), (30, 30), (10, 10), (9, 9), (10, 10), (10, 10), (10, 10), (10, 10), (10, 10), (10, 10), (10, 10), (3, 11), (9, 9), (8, 6), (18, 18), (12, 13), (16, 11), (3, 3), (3, 3), (30, 30), (17, 15), (3, 3), (8, 8), (18, 18), (11, 11), (5, 11), (18, 18), (10, 10), (14, 14), (19, 21), (13, 13), (13, 13), (5, 15), (10, 10), (10, 10), (17, 17), (16, 16), (13, 5), (5, 5), (30, 30), (9, 13), (14, 15), (17, 18), (10, 10), (14, 14), (29, 29), (7, 7), (6, 12), (3, 4), (10, 10), (11, 20), (12, 12), (3, 3), (18, 19), (13, 13), (4, 24), (14, 13), (20, 20), (14, 14), (15, 15), (9, 9), (19, 19), (17, 14), (17, 19), (10, 10), (10, 10), (17, 21), (12, 12), (3, 3), (3, 3), (13, 13), (3, 3), (5, 5), (10, 10), (13, 13), (29, 29), (10, 10), (18, 14), (10, 6), (3, 2), (14, 14), (3, 4), (15, 15), (19, 22), (12, 12), (14, 13), (13, 13), (7, 17), (5, 5), (8, 10), (15, 15), (7, 11), (7, 11), (15, 15), (3, 3), (9, 9), (4, 18), (9, 8), (19, 30), (22, 26), (9, 9), (10, 10), (28, 28), (16, 15), (9, 9), (3, 3), (17, 17), (3, 3), (10, 10), (9, 4), (13, 16), (9, 3), (5, 5), (21, 12), (11, 11), (3, 3), (12, 12), (3, 3), (10, 10), (15, 15), (7, 7), (10, 10), (10, 15), (22, 22), (24, 26), (10, 10), (16, 19), (20, 20), (11, 11), (3, 3), (20, 20), (9, 11), (3, 3), (10, 10), (10, 10), (21, 24), (7, 6), (3, 3), (19, 19), (10, 10), (21, 21), (3, 25), (17, 17), (4, 9), (3, 3), (8, 8), (6, 9), (20, 20), (10, 10), (23, 28), (29, 29), (3, 3), (22, 25), (8, 3), (9, 9), (10, 10), (23, 23), (12, 17), (10, 10), (3, 3), (17, 19), (12, 12), (14, 10), (27, 27), (12, 12), (10, 10), (13, 13), (17, 15), (14, 14), (20, 20), (19, 17), (10, 11), (5, 5), (21, 21), (19, 18), (3, 3), (3, 2), (10, 10), (19, 19), (3, 11), (14, 13), (20, 20), (9, 9), (21, 21), (15, 10), (16, 16), (3, 3), (16, 16), (3, 3), (15, 15), (6, 6), (10, 10), (8, 4), (10, 10), (3, 3), (15, 15), (5, 9), (9, 8), (19, 15), (12, 17), (4, 14), (9, 4), (7, 8), (16, 16), (4, 4), (19, 19), (6, 6), (16, 16), (16, 16), (23, 23), (10, 8), (12, 14), (10, 10), (10, 5), (5, 4), (10, 10), (9, 9), (12, 12), (13, 13), (9, 9), (30, 30), (9, 9), (9, 9), (10, 10), (6, 6), (10, 10), (5, 5), (3, 3), (15, 3), (16, 15), (18, 18), (3, 5), (7, 7), (10, 10), (3, 3), (15, 15), (9, 9), (5, 4), (10, 10), (9, 9), (8, 4), (4, 4), (10, 10), (17, 16), (16, 15), (20, 20), (13, 13), (9, 9), (10, 10), (19, 9), (24, 24), (15, 15), (16, 16), (9, 9), (3, 3), (14, 13), (14, 15), (3, 17), (11, 6), (10, 10), (1, 12), (5, 7), (12, 5), (6, 6), (6, 6), (9, 9), (11, 8), (12, 12), (27, 25), (3, 3), (16, 16), (19, 29), (5, 5), (18, 19), (3, 5), (24, 24), (3, 3), (12, 12), (18, 18), (8, 8), (3, 3), (10, 10), (9, 9), (9, 4), (18, 18), (11, 9), (4, 14), (3, 3), (13, 13), (17, 19), (15, 12), (4, 8), (3, 3), (17, 17), (7, 7), (10, 10), (10, 10), (3, 17), (10, 10), (5, 5), (12, 13), (10, 10), (4, 4), (10, 10), (3, 3), (14, 17), (10, 10), (10, 10), (5, 15), (7, 9), (10, 10), (12, 12), (3, 6), (9, 9), (30, 30), (19, 21), (16, 16), (10, 10), (11, 11), (10, 10), (18, 19), (10, 10), (10, 5), (20, 20), (15, 15), (10, 9), (10, 10), (10, 10), (10, 10), (14, 16), (10, 10), (24, 12), (16, 18), (10, 10), (10, 10), (18, 16), (12, 12), (11, 11), (2, 6), (10, 10), (11, 11), (5, 17), (26, 27), (12, 12), (17, 19), (3, 3), (10, 10), (12, 17), (19, 18), (9, 9), (10, 4), (4, 7), (17, 18), (4, 4), (5, 5), (15, 15), (15, 13), (10, 10), (12, 12), (7, 7), (6, 3), (17, 17), (10, 10), (1, 5), (6, 6), (24, 24)]\n"
     ]
    }
   ],
   "source": [
    "#check shapes of input grids\n",
    "shapes = [grid.shape for grid in input_grids]\n",
    "print(\"Shapes of input grids:\", shapes)"
   ]
  },
  {
   "cell_type": "code",
   "execution_count": 15,
   "id": "744c618a",
   "metadata": {
    "execution": {
     "iopub.execute_input": "2024-06-29T13:30:50.635627Z",
     "iopub.status.busy": "2024-06-29T13:30:50.635222Z",
     "iopub.status.idle": "2024-06-29T13:30:50.640611Z",
     "shell.execute_reply": "2024-06-29T13:30:50.639387Z"
    },
    "papermill": {
     "duration": 0.02179,
     "end_time": "2024-06-29T13:30:50.642983",
     "exception": false,
     "start_time": "2024-06-29T13:30:50.621193",
     "status": "completed"
    },
    "tags": []
   },
   "outputs": [],
   "source": [
    "#ensure that all grids have the same shape\n",
    "max_shape = max(shapes, key=lambda x: x[0]*x[1])\n",
    "consistent_shape = tuple(max_shape)"
   ]
  },
  {
   "cell_type": "code",
   "execution_count": 16,
   "id": "44c0f799",
   "metadata": {
    "execution": {
     "iopub.execute_input": "2024-06-29T13:30:50.671007Z",
     "iopub.status.busy": "2024-06-29T13:30:50.670589Z",
     "iopub.status.idle": "2024-06-29T13:30:50.707539Z",
     "shell.execute_reply": "2024-06-29T13:30:50.706098Z"
    },
    "papermill": {
     "duration": 0.054874,
     "end_time": "2024-06-29T13:30:50.711035",
     "exception": false,
     "start_time": "2024-06-29T13:30:50.656161",
     "status": "completed"
    },
    "tags": []
   },
   "outputs": [],
   "source": [
    "#pad or resize if necessary\n",
    "processed_grids = []\n",
    "for grid in input_grids:\n",
    "    if grid.shape != consistent_shape:\n",
    "        #determine padding or resizing logic based on dimensions\n",
    "        if grid.shape[0] < consistent_shape[0]:\n",
    "            # Pad rows if current shape is smaller\n",
    "            pad_rows = consistent_shape[0] - grid.shape[0]\n",
    "            pad_cols = consistent_shape[1] - grid.shape[1]\n",
    "            padded_grid = np.pad(grid, ((0, pad_rows), (0, pad_cols)), mode='constant', constant_values=0)\n",
    "        else:\n",
    "            #resize using interpolation if current shape is larger\n",
    "            padded_grid = np.resize(grid, consistent_shape)\n",
    "        \n",
    "        processed_grids.append(padded_grid)\n",
    "    else:\n",
    "        processed_grids.append(grid)"
   ]
  },
  {
   "cell_type": "code",
   "execution_count": 17,
   "id": "1601ec91",
   "metadata": {
    "execution": {
     "iopub.execute_input": "2024-06-29T13:30:50.741937Z",
     "iopub.status.busy": "2024-06-29T13:30:50.741063Z",
     "iopub.status.idle": "2024-06-29T13:30:50.746825Z",
     "shell.execute_reply": "2024-06-29T13:30:50.745837Z"
    },
    "papermill": {
     "duration": 0.022906,
     "end_time": "2024-06-29T13:30:50.749244",
     "exception": false,
     "start_time": "2024-06-29T13:30:50.726338",
     "status": "completed"
    },
    "tags": []
   },
   "outputs": [],
   "source": [
    "#convert to NumPy array\n",
    "X = np.array(processed_grids)"
   ]
  },
  {
   "cell_type": "code",
   "execution_count": 18,
   "id": "04c610bc",
   "metadata": {
    "execution": {
     "iopub.execute_input": "2024-06-29T13:30:50.779262Z",
     "iopub.status.busy": "2024-06-29T13:30:50.778701Z",
     "iopub.status.idle": "2024-06-29T13:30:50.787652Z",
     "shell.execute_reply": "2024-06-29T13:30:50.786165Z"
    },
    "papermill": {
     "duration": 0.027453,
     "end_time": "2024-06-29T13:30:50.790675",
     "exception": false,
     "start_time": "2024-06-29T13:30:50.763222",
     "status": "completed"
    },
    "tags": []
   },
   "outputs": [
    {
     "name": "stdout",
     "output_type": "stream",
     "text": [
      "Shape of X: (400, 30, 30)\n",
      "X:\n",
      "[[[7. 0. 7. ... 0. 0. 0.]\n",
      "  [7. 0. 7. ... 0. 0. 0.]\n",
      "  [7. 7. 0. ... 0. 0. 0.]\n",
      "  ...\n",
      "  [0. 0. 0. ... 0. 0. 0.]\n",
      "  [0. 0. 0. ... 0. 0. 0.]\n",
      "  [0. 0. 0. ... 0. 0. 0.]]\n",
      "\n",
      " [[0. 0. 0. ... 0. 0. 0.]\n",
      "  [0. 0. 3. ... 0. 0. 0.]\n",
      "  [0. 3. 0. ... 0. 0. 0.]\n",
      "  ...\n",
      "  [0. 0. 0. ... 0. 0. 0.]\n",
      "  [0. 0. 0. ... 0. 0. 0.]\n",
      "  [0. 0. 0. ... 0. 0. 0.]]\n",
      "\n",
      " [[1. 1. 1. ... 0. 0. 0.]\n",
      "  [0. 1. 0. ... 0. 0. 0.]\n",
      "  [0. 1. 0. ... 0. 0. 0.]\n",
      "  ...\n",
      "  [0. 0. 0. ... 0. 0. 0.]\n",
      "  [0. 0. 0. ... 0. 0. 0.]\n",
      "  [0. 0. 0. ... 0. 0. 0.]]\n",
      "\n",
      " ...\n",
      "\n",
      " [[0. 6. 7. ... 0. 0. 0.]\n",
      "  [0. 0. 0. ... 0. 0. 0.]\n",
      "  [0. 0. 0. ... 0. 0. 0.]\n",
      "  ...\n",
      "  [0. 0. 0. ... 0. 0. 0.]\n",
      "  [0. 0. 0. ... 0. 0. 0.]\n",
      "  [0. 0. 0. ... 0. 0. 0.]]\n",
      "\n",
      " [[0. 0. 0. ... 0. 0. 0.]\n",
      "  [2. 2. 0. ... 0. 0. 0.]\n",
      "  [2. 2. 0. ... 0. 0. 0.]\n",
      "  ...\n",
      "  [0. 0. 0. ... 0. 0. 0.]\n",
      "  [0. 0. 0. ... 0. 0. 0.]\n",
      "  [0. 0. 0. ... 0. 0. 0.]]\n",
      "\n",
      " [[4. 4. 4. ... 0. 0. 0.]\n",
      "  [4. 4. 4. ... 0. 0. 0.]\n",
      "  [4. 4. 0. ... 0. 0. 0.]\n",
      "  ...\n",
      "  [0. 0. 0. ... 0. 0. 0.]\n",
      "  [0. 0. 0. ... 0. 0. 0.]\n",
      "  [0. 0. 0. ... 0. 0. 0.]]]\n"
     ]
    }
   ],
   "source": [
    "#check X shape for all grids\n",
    "print(\"Shape of X:\", X.shape)\n",
    "print(\"X:\")\n",
    "print(X)"
   ]
  },
  {
   "cell_type": "code",
   "execution_count": 19,
   "id": "aedfcc9b",
   "metadata": {
    "execution": {
     "iopub.execute_input": "2024-06-29T13:30:50.820698Z",
     "iopub.status.busy": "2024-06-29T13:30:50.820297Z",
     "iopub.status.idle": "2024-06-29T13:30:50.826943Z",
     "shell.execute_reply": "2024-06-29T13:30:50.825726Z"
    },
    "papermill": {
     "duration": 0.023815,
     "end_time": "2024-06-29T13:30:50.829244",
     "exception": false,
     "start_time": "2024-06-29T13:30:50.805429",
     "status": "completed"
    },
    "tags": []
   },
   "outputs": [
    {
     "name": "stdout",
     "output_type": "stream",
     "text": [
      "Shapes of output grids (Y): [(9, 9), (20, 20), (9, 3), (10, 10), (21, 21), (3, 3), (7, 7), (11, 10), (26, 26), (9, 9), (11, 11), (12, 12), (11, 27), (6, 6), (9, 9), (3, 3), (21, 21), (24, 19), (12, 10), (10, 10), (5, 3), (3, 3), (8, 11), (12, 11), (19, 26), (5, 3), (10, 10), (10, 10), (8, 9), (10, 10), (4, 6), (5, 5), (17, 17), (9, 9), (10, 10), (4, 4), (10, 10), (1, 5), (3, 3), (10, 10), (10, 10), (10, 10), (10, 10), (10, 10), (10, 10), (3, 8), (9, 9), (1, 1), (3, 3), (12, 13), (16, 11), (3, 3), (3, 3), (30, 30), (17, 15), (1, 1), (3, 6), (18, 18), (11, 11), (5, 11), (18, 18), (10, 10), (14, 14), (19, 21), (6, 6), (13, 13), (5, 5), (10, 10), (10, 10), (17, 17), (16, 16), (6, 5), (5, 5), (30, 30), (9, 13), (14, 15), (17, 18), (10, 10), (3, 3), (29, 29), (7, 7), (6, 12), (6, 8), (10, 10), (11, 20), (12, 12), (3, 3), (8, 10), (13, 13), (4, 24), (10, 4), (20, 20), (14, 14), (15, 15), (9, 9), (11, 11), (17, 14), (17, 19), (10, 10), (2, 2), (17, 21), (12, 12), (1, 1), (9, 9), (13, 13), (6, 6), (25, 25), (20, 20), (12, 12), (29, 29), (3, 3), (18, 14), (10, 6), (5, 4), (1, 4), (6, 4), (15, 15), (19, 22), (12, 12), (14, 13), (3, 3), (7, 17), (10, 10), (10, 10), (15, 15), (7, 11), (7, 11), (15, 15), (3, 3), (3, 3), (4, 18), (9, 8), (19, 30), (3, 3), (3, 3), (10, 10), (28, 28), (12, 10), (9, 9), (3, 3), (17, 17), (6, 6), (10, 10), (4, 4), (13, 16), (3, 3), (5, 5), (21, 12), (3, 3), (3, 3), (12, 12), (6, 6), (3, 3), (15, 15), (7, 7), (10, 10), (10, 15), (22, 22), (14, 14), (10, 10), (16, 19), (20, 20), (11, 11), (3, 6), (20, 20), (9, 11), (3, 3), (10, 10), (10, 10), (4, 4), (7, 6), (6, 3), (19, 19), (3, 4), (21, 21), (3, 25), (7, 8), (1, 5), (3, 3), (4, 4), (6, 9), (20, 20), (6, 6), (3, 3), (3, 3), (3, 3), (22, 25), (4, 3), (6, 6), (10, 10), (23, 23), (12, 17), (10, 10), (6, 6), (9, 9), (12, 12), (14, 10), (27, 27), (12, 12), (10, 10), (6, 8), (17, 15), (14, 14), (20, 20), (10, 8), (10, 11), (2, 2), (21, 21), (14, 18), (6, 3), (9, 4), (10, 10), (7, 7), (3, 11), (14, 13), (9, 10), (9, 9), (3, 3), (15, 10), (16, 16), (21, 21), (16, 16), (9, 9), (15, 15), (6, 6), (10, 10), (4, 4), (10, 10), (3, 3), (15, 15), (5, 18), (9, 8), (8, 12), (12, 17), (3, 3), (4, 4), (7, 8), (7, 7), (6, 5), (19, 19), (6, 6), (3, 3), (16, 16), (4, 4), (10, 8), (12, 14), (4, 3), (10, 5), (5, 8), (10, 10), (9, 9), (12, 12), (4, 4), (9, 9), (30, 30), (9, 9), (4, 4), (10, 10), (2, 2), (10, 10), (5, 5), (3, 3), (3, 3), (9, 9), (18, 18), (3, 5), (7, 7), (10, 10), (12, 12), (15, 15), (3, 3), (5, 4), (10, 10), (3, 3), (16, 16), (4, 4), (10, 10), (17, 16), (16, 15), (20, 20), (13, 13), (9, 9), (10, 10), (19, 9), (24, 24), (15, 15), (16, 16), (9, 9), (12, 12), (6, 6), (1, 1), (3, 17), (11, 6), (10, 10), (6, 12), (3, 3), (12, 5), (6, 6), (6, 6), (4, 3), (11, 8), (12, 12), (27, 25), (9, 9), (16, 16), (19, 29), (10, 10), (7, 7), (3, 5), (6, 6), (3, 6), (12, 12), (18, 18), (8, 8), (9, 9), (3, 3), (9, 9), (4, 4), (4, 3), (11, 9), (4, 4), (3, 3), (13, 13), (17, 19), (5, 5), (2, 2), (6, 6), (17, 17), (7, 7), (10, 10), (10, 10), (3, 17), (10, 10), (3, 3), (12, 13), (10, 10), (4, 4), (10, 10), (1, 5), (14, 17), (10, 10), (10, 10), (5, 15), (7, 9), (10, 10), (1, 1), (3, 3), (9, 9), (30, 30), (19, 21), (5, 5), (10, 10), (11, 11), (10, 10), (1, 1), (10, 10), (10, 5), (20, 20), (15, 15), (10, 4), (10, 10), (10, 10), (10, 10), (14, 16), (6, 3), (12, 12), (16, 18), (10, 10), (10, 10), (18, 16), (12, 12), (5, 11), (2, 6), (10, 10), (11, 11), (17, 17), (9, 9), (12, 12), (17, 19), (3, 3), (10, 10), (12, 17), (19, 18), (6, 10), (10, 4), (4, 3), (17, 18), (8, 8), (5, 5), (15, 15), (3, 1), (10, 10), (3, 1), (3, 3), (3, 3), (8, 8), (10, 10), (20, 20), (3, 3), (5, 5)]\n"
     ]
    }
   ],
   "source": [
    "#check Y shapes\n",
    "shapes_y = [grid.shape for grid in output_grids]\n",
    "print(\"Shapes of output grids (Y):\", shapes_y)"
   ]
  },
  {
   "cell_type": "code",
   "execution_count": 20,
   "id": "0b3c4b55",
   "metadata": {
    "execution": {
     "iopub.execute_input": "2024-06-29T13:30:50.857258Z",
     "iopub.status.busy": "2024-06-29T13:30:50.856740Z",
     "iopub.status.idle": "2024-06-29T13:30:50.862313Z",
     "shell.execute_reply": "2024-06-29T13:30:50.861196Z"
    },
    "papermill": {
     "duration": 0.02192,
     "end_time": "2024-06-29T13:30:50.864455",
     "exception": false,
     "start_time": "2024-06-29T13:30:50.842535",
     "status": "completed"
    },
    "tags": []
   },
   "outputs": [],
   "source": [
    "#determine the maximum Y shape\n",
    "max_shape_y = max(shapes_y, key=lambda x: x[0]*x[1])\n",
    "consistent_shape_y = tuple(max_shape_y)"
   ]
  },
  {
   "cell_type": "code",
   "execution_count": 21,
   "id": "5ac29510",
   "metadata": {
    "execution": {
     "iopub.execute_input": "2024-06-29T13:30:50.892274Z",
     "iopub.status.busy": "2024-06-29T13:30:50.891857Z",
     "iopub.status.idle": "2024-06-29T13:30:50.933422Z",
     "shell.execute_reply": "2024-06-29T13:30:50.932208Z"
    },
    "papermill": {
     "duration": 0.05885,
     "end_time": "2024-06-29T13:30:50.936338",
     "exception": false,
     "start_time": "2024-06-29T13:30:50.877488",
     "status": "completed"
    },
    "tags": []
   },
   "outputs": [],
   "source": [
    "#pad or resize\n",
    "processed_grids_y = []\n",
    "for grid_y in output_grids:\n",
    "    if grid_y.shape != consistent_shape_y:\n",
    "        #pad or resize\n",
    "        if grid_y.shape[0] < consistent_shape_y[0] or grid_y.shape[1] < consistent_shape_y[1]:\n",
    "            #pad with zeros to match consistent_shape_y\n",
    "            pad_width = ((0, consistent_shape_y[0] - grid_y.shape[0]), \n",
    "                         (0, consistent_shape_y[1] - grid_y.shape[1]))\n",
    "            padded_grid_y = np.pad(grid_y, pad_width, mode='constant', constant_values=0)\n",
    "        else:\n",
    "            #resize to match consistent_shape_y\n",
    "            padded_grid_y = np.resize(grid_y, consistent_shape_y)\n",
    "\n",
    "        processed_grids_y.append(padded_grid_y)\n",
    "    else:\n",
    "        processed_grids_y.append(grid_y)"
   ]
  },
  {
   "cell_type": "code",
   "execution_count": 22,
   "id": "cede0083",
   "metadata": {
    "execution": {
     "iopub.execute_input": "2024-06-29T13:30:50.965385Z",
     "iopub.status.busy": "2024-06-29T13:30:50.965001Z",
     "iopub.status.idle": "2024-06-29T13:30:50.971044Z",
     "shell.execute_reply": "2024-06-29T13:30:50.970008Z"
    },
    "papermill": {
     "duration": 0.024013,
     "end_time": "2024-06-29T13:30:50.973574",
     "exception": false,
     "start_time": "2024-06-29T13:30:50.949561",
     "status": "completed"
    },
    "tags": []
   },
   "outputs": [],
   "source": [
    "#convert to NumPy array\n",
    "Y = np.array(processed_grids_y)"
   ]
  },
  {
   "cell_type": "code",
   "execution_count": 23,
   "id": "e697c2b2",
   "metadata": {
    "execution": {
     "iopub.execute_input": "2024-06-29T13:30:51.061312Z",
     "iopub.status.busy": "2024-06-29T13:30:51.060892Z",
     "iopub.status.idle": "2024-06-29T13:30:51.067074Z",
     "shell.execute_reply": "2024-06-29T13:30:51.066063Z"
    },
    "papermill": {
     "duration": 0.083147,
     "end_time": "2024-06-29T13:30:51.070022",
     "exception": false,
     "start_time": "2024-06-29T13:30:50.986875",
     "status": "completed"
    },
    "tags": []
   },
   "outputs": [
    {
     "name": "stdout",
     "output_type": "stream",
     "text": [
      "Shapes of output grids (Y) after processing: [(30, 30), (30, 30), (30, 30), (30, 30), (30, 30), (30, 30), (30, 30), (30, 30), (30, 30), (30, 30), (30, 30), (30, 30), (30, 30), (30, 30), (30, 30), (30, 30), (30, 30), (30, 30), (30, 30), (30, 30), (30, 30), (30, 30), (30, 30), (30, 30), (30, 30), (30, 30), (30, 30), (30, 30), (30, 30), (30, 30), (30, 30), (30, 30), (30, 30), (30, 30), (30, 30), (30, 30), (30, 30), (30, 30), (30, 30), (30, 30), (30, 30), (30, 30), (30, 30), (30, 30), (30, 30), (30, 30), (30, 30), (30, 30), (30, 30), (30, 30), (30, 30), (30, 30), (30, 30), (30, 30), (30, 30), (30, 30), (30, 30), (30, 30), (30, 30), (30, 30), (30, 30), (30, 30), (30, 30), (30, 30), (30, 30), (30, 30), (30, 30), (30, 30), (30, 30), (30, 30), (30, 30), (30, 30), (30, 30), (30, 30), (30, 30), (30, 30), (30, 30), (30, 30), (30, 30), (30, 30), (30, 30), (30, 30), (30, 30), (30, 30), (30, 30), (30, 30), (30, 30), (30, 30), (30, 30), (30, 30), (30, 30), (30, 30), (30, 30), (30, 30), (30, 30), (30, 30), (30, 30), (30, 30), (30, 30), (30, 30), (30, 30), (30, 30), (30, 30), (30, 30), (30, 30), (30, 30), (30, 30), (30, 30), (30, 30), (30, 30), (30, 30), (30, 30), (30, 30), (30, 30), (30, 30), (30, 30), (30, 30), (30, 30), (30, 30), (30, 30), (30, 30), (30, 30), (30, 30), (30, 30), (30, 30), (30, 30), (30, 30), (30, 30), (30, 30), (30, 30), (30, 30), (30, 30), (30, 30), (30, 30), (30, 30), (30, 30), (30, 30), (30, 30), (30, 30), (30, 30), (30, 30), (30, 30), (30, 30), (30, 30), (30, 30), (30, 30), (30, 30), (30, 30), (30, 30), (30, 30), (30, 30), (30, 30), (30, 30), (30, 30), (30, 30), (30, 30), (30, 30), (30, 30), (30, 30), (30, 30), (30, 30), (30, 30), (30, 30), (30, 30), (30, 30), (30, 30), (30, 30), (30, 30), (30, 30), (30, 30), (30, 30), (30, 30), (30, 30), (30, 30), (30, 30), (30, 30), (30, 30), (30, 30), (30, 30), (30, 30), (30, 30), (30, 30), (30, 30), (30, 30), (30, 30), (30, 30), (30, 30), (30, 30), (30, 30), (30, 30), (30, 30), (30, 30), (30, 30), (30, 30), (30, 30), (30, 30), (30, 30), (30, 30), (30, 30), (30, 30), (30, 30), (30, 30), (30, 30), (30, 30), (30, 30), (30, 30), (30, 30), (30, 30), (30, 30), (30, 30), (30, 30), (30, 30), (30, 30), (30, 30), (30, 30), (30, 30), (30, 30), (30, 30), (30, 30), (30, 30), (30, 30), (30, 30), (30, 30), (30, 30), (30, 30), (30, 30), (30, 30), (30, 30), (30, 30), (30, 30), (30, 30), (30, 30), (30, 30), (30, 30), (30, 30), (30, 30), (30, 30), (30, 30), (30, 30), (30, 30), (30, 30), (30, 30), (30, 30), (30, 30), (30, 30), (30, 30), (30, 30), (30, 30), (30, 30), (30, 30), (30, 30), (30, 30), (30, 30), (30, 30), (30, 30), (30, 30), (30, 30), (30, 30), (30, 30), (30, 30), (30, 30), (30, 30), (30, 30), (30, 30), (30, 30), (30, 30), (30, 30), (30, 30), (30, 30), (30, 30), (30, 30), (30, 30), (30, 30), (30, 30), (30, 30), (30, 30), (30, 30), (30, 30), (30, 30), (30, 30), (30, 30), (30, 30), (30, 30), (30, 30), (30, 30), (30, 30), (30, 30), (30, 30), (30, 30), (30, 30), (30, 30), (30, 30), (30, 30), (30, 30), (30, 30), (30, 30), (30, 30), (30, 30), (30, 30), (30, 30), (30, 30), (30, 30), (30, 30), (30, 30), (30, 30), (30, 30), (30, 30), (30, 30), (30, 30), (30, 30), (30, 30), (30, 30), (30, 30), (30, 30), (30, 30), (30, 30), (30, 30), (30, 30), (30, 30), (30, 30), (30, 30), (30, 30), (30, 30), (30, 30), (30, 30), (30, 30), (30, 30), (30, 30), (30, 30), (30, 30), (30, 30), (30, 30), (30, 30), (30, 30), (30, 30), (30, 30), (30, 30), (30, 30), (30, 30), (30, 30), (30, 30), (30, 30), (30, 30), (30, 30), (30, 30), (30, 30), (30, 30), (30, 30), (30, 30), (30, 30), (30, 30), (30, 30), (30, 30), (30, 30), (30, 30), (30, 30), (30, 30), (30, 30), (30, 30), (30, 30), (30, 30), (30, 30), (30, 30), (30, 30), (30, 30), (30, 30), (30, 30), (30, 30), (30, 30), (30, 30), (30, 30), (30, 30), (30, 30), (30, 30), (30, 30), (30, 30), (30, 30), (30, 30), (30, 30), (30, 30), (30, 30), (30, 30), (30, 30), (30, 30), (30, 30), (30, 30), (30, 30), (30, 30), (30, 30), (30, 30), (30, 30), (30, 30), (30, 30), (30, 30), (30, 30), (30, 30), (30, 30), (30, 30), (30, 30), (30, 30)]\n"
     ]
    }
   ],
   "source": [
    "#check shapes after processing\n",
    "shapes_y_processed = [grid.shape for grid in Y]\n",
    "print(\"Shapes of output grids (Y) after processing:\", shapes_y_processed)"
   ]
  },
  {
   "cell_type": "code",
   "execution_count": 24,
   "id": "6434c151",
   "metadata": {
    "execution": {
     "iopub.execute_input": "2024-06-29T13:30:51.098707Z",
     "iopub.status.busy": "2024-06-29T13:30:51.097885Z",
     "iopub.status.idle": "2024-06-29T13:30:52.342866Z",
     "shell.execute_reply": "2024-06-29T13:30:52.341681Z"
    },
    "papermill": {
     "duration": 1.261909,
     "end_time": "2024-06-29T13:30:52.345492",
     "exception": false,
     "start_time": "2024-06-29T13:30:51.083583",
     "status": "completed"
    },
    "tags": []
   },
   "outputs": [],
   "source": [
    "#split data into train and test sets\n",
    "from sklearn.model_selection import train_test_split\n",
    "\n",
    "X_train, X_test, Y_train, Y_test = train_test_split(X, Y, test_size=0.2, random_state=42)"
   ]
  },
  {
   "cell_type": "code",
   "execution_count": 25,
   "id": "96a3c5b1",
   "metadata": {
    "execution": {
     "iopub.execute_input": "2024-06-29T13:30:52.373842Z",
     "iopub.status.busy": "2024-06-29T13:30:52.373420Z",
     "iopub.status.idle": "2024-06-29T13:30:52.577749Z",
     "shell.execute_reply": "2024-06-29T13:30:52.576590Z"
    },
    "papermill": {
     "duration": 0.221217,
     "end_time": "2024-06-29T13:30:52.580081",
     "exception": false,
     "start_time": "2024-06-29T13:30:52.358864",
     "status": "completed"
    },
    "tags": []
   },
   "outputs": [
    {
     "name": "stdout",
     "output_type": "stream",
     "text": [
      "Sample Task IDs:\n",
      "['007bbfb7', '00d62c1b', '017c7c7b', '025d127b', '045e512c', '0520fde7', '05269061', '05f2a901', '06df4c85', '08ed6ac7']\n"
     ]
    }
   ],
   "source": [
    "#retrieve 10 IDs from training\n",
    "\n",
    "train_challenges_path = '/kaggle/input/arc-prize-2024/arc-agi_training_challenges.json'\n",
    "\n",
    "#load training challenges\n",
    "with open(train_challenges_path, 'r') as f:\n",
    "    train_challenges = json.load(f)\n",
    "\n",
    "#get 10 task IDs\n",
    "sample_task_ids = list(train_challenges.keys())[:10]\n",
    "\n",
    "#print the sample task IDs\n",
    "print(\"Sample Task IDs:\")\n",
    "print(sample_task_ids)"
   ]
  },
  {
   "cell_type": "code",
   "execution_count": 26,
   "id": "3b18de4f",
   "metadata": {
    "execution": {
     "iopub.execute_input": "2024-06-29T13:30:52.608288Z",
     "iopub.status.busy": "2024-06-29T13:30:52.607916Z",
     "iopub.status.idle": "2024-06-29T13:30:52.613787Z",
     "shell.execute_reply": "2024-06-29T13:30:52.612512Z"
    },
    "papermill": {
     "duration": 0.022728,
     "end_time": "2024-06-29T13:30:52.615977",
     "exception": false,
     "start_time": "2024-06-29T13:30:52.593249",
     "status": "completed"
    },
    "tags": []
   },
   "outputs": [
    {
     "name": "stdout",
     "output_type": "stream",
     "text": [
      "Shape of X_train: (320, 30, 30)\n"
     ]
    }
   ],
   "source": [
    "print(f\"Shape of X_train: {X_train.shape}\")"
   ]
  },
  {
   "cell_type": "code",
   "execution_count": 27,
   "id": "bb0887f4",
   "metadata": {
    "execution": {
     "iopub.execute_input": "2024-06-29T13:30:52.644211Z",
     "iopub.status.busy": "2024-06-29T13:30:52.643835Z",
     "iopub.status.idle": "2024-06-29T13:30:52.649811Z",
     "shell.execute_reply": "2024-06-29T13:30:52.648585Z"
    },
    "papermill": {
     "duration": 0.022967,
     "end_time": "2024-06-29T13:30:52.652244",
     "exception": false,
     "start_time": "2024-06-29T13:30:52.629277",
     "status": "completed"
    },
    "tags": []
   },
   "outputs": [
    {
     "name": "stdout",
     "output_type": "stream",
     "text": [
      "Shape of Y_train: (320, 30, 30)\n"
     ]
    }
   ],
   "source": [
    "print(f\"Shape of Y_train: {Y_train.shape}\")"
   ]
  },
  {
   "cell_type": "code",
   "execution_count": 28,
   "id": "a6d75a49",
   "metadata": {
    "execution": {
     "iopub.execute_input": "2024-06-29T13:30:52.681580Z",
     "iopub.status.busy": "2024-06-29T13:30:52.680663Z",
     "iopub.status.idle": "2024-06-29T13:30:52.718119Z",
     "shell.execute_reply": "2024-06-29T13:30:52.716817Z"
    },
    "papermill": {
     "duration": 0.054695,
     "end_time": "2024-06-29T13:30:52.720419",
     "exception": false,
     "start_time": "2024-06-29T13:30:52.665724",
     "status": "completed"
    },
    "tags": []
   },
   "outputs": [
    {
     "name": "stdout",
     "output_type": "stream",
     "text": [
      "Shape of X_train: torch.Size([320, 1, 30, 30])\n",
      "Shape of Y_train: torch.Size([320, 30, 30])\n",
      "Shape of X_test: torch.Size([80, 1, 30, 30])\n",
      "Shape of Y_test: torch.Size([80, 30, 30])\n"
     ]
    }
   ],
   "source": [
    "#ensure Y_train contains values between 0 and 1\n",
    "Y_train = (Y_train > 0).astype(np.float32)  #convert to 0 and 1\n",
    "Y_test = (Y_test > 0).astype(np.float32)    #convert to 0 and 1\n",
    "\n",
    "#reshape inputs to add channel dimension\n",
    "X_train = X_train.reshape(-1, 1, 30, 30).astype(np.float32)  #add channel dimension and convert to float32\n",
    "X_test = X_test.reshape(-1, 1, 30, 30).astype(np.float32)    #add channel dimension and convert to float32\n",
    "\n",
    "#convert to PyTorch tensors\n",
    "X_train = torch.tensor(X_train)\n",
    "Y_train = torch.tensor(Y_train)\n",
    "X_test = torch.tensor(X_test)\n",
    "Y_test = torch.tensor(Y_test)\n",
    "\n",
    "#check shapes\n",
    "print(f\"Shape of X_train: {X_train.shape}\")\n",
    "print(f\"Shape of Y_train: {Y_train.shape}\")\n",
    "print(f\"Shape of X_test: {X_test.shape}\")\n",
    "print(f\"Shape of Y_test: {Y_test.shape}\")"
   ]
  },
  {
   "cell_type": "code",
   "execution_count": 29,
   "id": "24797e16",
   "metadata": {
    "execution": {
     "iopub.execute_input": "2024-06-29T13:30:52.749540Z",
     "iopub.status.busy": "2024-06-29T13:30:52.748630Z",
     "iopub.status.idle": "2024-06-29T13:30:52.757274Z",
     "shell.execute_reply": "2024-06-29T13:30:52.756090Z"
    },
    "papermill": {
     "duration": 0.025521,
     "end_time": "2024-06-29T13:30:52.759425",
     "exception": false,
     "start_time": "2024-06-29T13:30:52.733904",
     "status": "completed"
    },
    "tags": []
   },
   "outputs": [],
   "source": [
    "from torch.utils.data import TensorDataset\n",
    "#create PyTorch DataLoader\n",
    "train_dataset = TensorDataset(X_train, Y_train)\n",
    "train_loader = DataLoader(train_dataset, batch_size=32, shuffle=True)"
   ]
  },
  {
   "cell_type": "code",
   "execution_count": 30,
   "id": "60fdb490",
   "metadata": {
    "execution": {
     "iopub.execute_input": "2024-06-29T13:30:52.788982Z",
     "iopub.status.busy": "2024-06-29T13:30:52.788193Z",
     "iopub.status.idle": "2024-06-29T13:30:52.799577Z",
     "shell.execute_reply": "2024-06-29T13:30:52.798523Z"
    },
    "papermill": {
     "duration": 0.028153,
     "end_time": "2024-06-29T13:30:52.801626",
     "exception": false,
     "start_time": "2024-06-29T13:30:52.773473",
     "status": "completed"
    },
    "tags": []
   },
   "outputs": [],
   "source": [
    "import torch\n",
    "import torch.nn as nn\n",
    "import torch.nn.functional as F\n",
    "\n",
    "class YambiModel(nn.Module):\n",
    "    \"\"\"\n",
    "    YambiModel is a convolutional neural network designed specifically\n",
    "    for solving grid prediction tasks within the context of the ARC.\n",
    "    The model architecture comprises two convolutional layers followed by three fully connected layers.\n",
    "    Convolutional layers are adept at capturing spatial relationships within grid-like data, making them suitable\n",
    "    for tasks involving pattern recognition and prediction. The model utilizes ReLU activation functions\n",
    "    for its hidden layers to introduce non-linearity, enhancing its ability to learn complex patterns.\n",
    "    The output layer employs a sigmoid activation function to constrain predictions between 0 and 1,\n",
    "    ensuring compatibility with ARC's output format.\n",
    "\n",
    "    Attributes:\n",
    "    - conv1 (nn.Conv2d): First convolutional layer.\n",
    "    - conv2 (nn.Conv2d): Second convolutional layer.\n",
    "    - fc1 (nn.Linear): First fully connected layer.\n",
    "    - fc2 (nn.Linear): Second fully connected layer.\n",
    "    - fc3 (nn.Linear): Third fully connected layer.\n",
    "    \"\"\"\n",
    "\n",
    "    def __init__(self):\n",
    "        super(YambiModel, self).__init__()\n",
    "        self.conv1 = nn.Conv2d(1, 64, 3, padding=1)\n",
    "        self.conv2 = nn.Conv2d(64, 128, 3, padding=1)\n",
    "        self.fc1 = nn.Linear(128 * 30 * 30, 256) \n",
    "        self.fc2 = nn.Linear(256, 128)\n",
    "        self.fc3 = nn.Linear(128, 30 * 30)\n",
    "\n",
    "    def forward(self, x):\n",
    "        \"\"\"\n",
    "        Forward pass through the network.\n",
    "\n",
    "        Args:\n",
    "        - x (Tensor): Input tensor of shape (batch_size, 1, height, width).\n",
    "\n",
    "        Returns:\n",
    "        - Tensor: Output tensor of shape (batch_size, 30, 30).\n",
    "        \"\"\"\n",
    "        x = F.relu(self.conv1(x))\n",
    "        x = F.relu(self.conv2(x))\n",
    "        x = x.view(-1, 128 * 30 * 30)  #flatten the tensor\n",
    "        x = F.relu(self.fc1(x))\n",
    "        x = F.relu(self.fc2(x))\n",
    "        x = torch.sigmoid(self.fc3(x))  #apply sigmoid activation for output\n",
    "        x = x.view(-1, 30, 30)  #reshape to (batch_size, 30, 30)\n",
    "        return x\n",
    "\n",
    "    def save_model(self, model_path='/kaggle/working/yambi_model.pth'):\n",
    "        \"\"\"\n",
    "        Save the trained model to a file.\n",
    "\n",
    "        Args:\n",
    "        - model_path (str): File path to save the model.\n",
    "        \"\"\"\n",
    "        torch.save(self.state_dict(), model_path)\n",
    "\n",
    "    def load_model(self, model_path='/kaggle/working/yambi_model.pth'):\n",
    "        \"\"\"\n",
    "        Load a pre-trained model from a file.\n",
    "\n",
    "        Args:\n",
    "        - model_path (str): File path to load the model from.\n",
    "        \"\"\"\n",
    "        self.load_state_dict(torch.load(model_path))\n",
    "        self.eval()\n",
    "\n",
    "    def __repr__(self):\n",
    "        return f'YambiModel()'"
   ]
  },
  {
   "cell_type": "code",
   "execution_count": 31,
   "id": "180c1fe1",
   "metadata": {
    "execution": {
     "iopub.execute_input": "2024-06-29T13:30:52.830588Z",
     "iopub.status.busy": "2024-06-29T13:30:52.830205Z",
     "iopub.status.idle": "2024-06-29T13:30:52.847799Z",
     "shell.execute_reply": "2024-06-29T13:30:52.846641Z"
    },
    "papermill": {
     "duration": 0.034869,
     "end_time": "2024-06-29T13:30:52.850103",
     "exception": false,
     "start_time": "2024-06-29T13:30:52.815234",
     "status": "completed"
    },
    "tags": []
   },
   "outputs": [],
   "source": [
    "import torch.optim as optim\n",
    "\n",
    "class ARCTrainer:\n",
    "    \"\"\"\n",
    "    ARCTrainer: Class to train and evaluate YambiModel.\n",
    "\n",
    "    Attributes:\n",
    "    - model (YambiModel): Instance of YambiModel for training.\n",
    "    - train_loader (torch.utils.data.DataLoader): DataLoader for training data.\n",
    "    - criterion (torch.nn.modules.loss): Loss function for training.\n",
    "    - optimizer (torch.optim): Optimizer for training.\n",
    "    - device (str): Device to run training on ('cpu' or 'cuda').\n",
    "    \"\"\"\n",
    "\n",
    "    def __init__(self, model, train_loader, device='cpu', learning_rate=0.001):\n",
    "        \"\"\"\n",
    "        Initialize ARCTrainer with model, data loader, and device for training.\n",
    "\n",
    "        Args:\n",
    "        - model (YambiModel): Instance of YambiModel for training.\n",
    "        - train_loader (torch.utils.data.DataLoader): DataLoader for training data.\n",
    "        - device (str): Device to run training on ('cpu' or 'cuda') (default: 'cpu').\n",
    "        - learning_rate (float): Learning rate for optimizer (default: 0.001).\n",
    "        \"\"\"\n",
    "        self.model = model\n",
    "        self.train_loader = train_loader\n",
    "        self.device = device\n",
    "\n",
    "        #move model to device\n",
    "        self.model.to(self.device)\n",
    "\n",
    "        #define loss function and optimizer\n",
    "        self.criterion = nn.BCELoss()  #Binary Cross Entropy Loss for binary classification\n",
    "        self.optimizer = optim.Adam(self.model.parameters(), lr=learning_rate)\n",
    "\n",
    "    def train(self, num_epochs=10):\n",
    "        \"\"\"\n",
    "        Train the YambiModel on the ARC training data.\n",
    "\n",
    "        Args:\n",
    "        - num_epochs (int): Number of epochs to train (default: 10).\n",
    "        \"\"\"\n",
    "        self.model.train()  #set model to training mode\n",
    "\n",
    "        for epoch in range(num_epochs):\n",
    "            running_loss = 0.0\n",
    "            for inputs, targets in self.train_loader:\n",
    "                #move data to device\n",
    "                inputs, targets = inputs.to(self.device), targets.to(self.device)\n",
    "\n",
    "                #zero the gradients\n",
    "                self.optimizer.zero_grad()\n",
    "\n",
    "                #forward pass\n",
    "                outputs = self.model(inputs)\n",
    "                loss = self.criterion(outputs, targets)\n",
    "\n",
    "                #backward pass and optimize\n",
    "                loss.backward()\n",
    "                self.optimizer.step()\n",
    "\n",
    "                #track loss\n",
    "                running_loss += loss.item()\n",
    "\n",
    "            #print epoch loss\n",
    "            print(f\"Epoch [{epoch+1}/{num_epochs}], Loss: {running_loss/len(self.train_loader):.4f}\")\n",
    "\n",
    "            #compute and print evaluation metrics on the training set\n",
    "            self.evaluate_train_set()\n",
    "\n",
    "    def evaluate_train_set(self):\n",
    "        \"\"\"\n",
    "        Evaluate the model on the training set and print evaluation metrics.\n",
    "        \"\"\"\n",
    "        predictions, targets = self.predict(self.train_loader)\n",
    "        self.print_metrics(predictions, targets, title=\"Training Set Metrics\")\n",
    "\n",
    "    def predict(self, data_loader):\n",
    "        \"\"\"\n",
    "        Predict outputs for a given data loader.\n",
    "\n",
    "        Args:\n",
    "        - data_loader (torch.utils.data.DataLoader): DataLoader for prediction.\n",
    "\n",
    "        Returns:\n",
    "        - predictions (torch.Tensor): Model predictions.\n",
    "        - targets (torch.Tensor): Ground truth labels.\n",
    "        \"\"\"\n",
    "        self.model.eval()  #set model to evaluation mode\n",
    "        predictions = []\n",
    "        targets = []\n",
    "        \n",
    "        with torch.no_grad():\n",
    "            for inputs, labels in data_loader:\n",
    "                inputs = inputs.to(self.device)\n",
    "                outputs = self.model(inputs)\n",
    "                predictions.append(outputs.cpu())\n",
    "                targets.append(labels)\n",
    "\n",
    "        predictions = torch.cat(predictions, dim=0)\n",
    "        targets = torch.cat(targets, dim=0)\n",
    "        \n",
    "        return predictions, targets\n",
    "\n",
    "    def print_metrics(self, predictions, targets, title=\"Metrics\"):\n",
    "        \"\"\"\n",
    "        Compute and print evaluation metrics: accuracy, precision, recall, and F1-score.\n",
    "\n",
    "        Args:\n",
    "        - predictions (torch.Tensor): Model predictions.\n",
    "        - targets (torch.Tensor): Ground truth labels.\n",
    "        - title (str): Title for the metrics printout (default: \"Metrics\").\n",
    "        \"\"\"\n",
    "        predictions = (predictions > 0.5).float()  #convert to binary predictions\n",
    "        predictions = predictions.cpu().numpy()  #move to CPU and convert to numpy array\n",
    "        targets = targets.cpu().numpy()  #move to CPU and convert to numpy array\n",
    "        \n",
    "        accuracy = accuracy_score(targets.flatten(), predictions.flatten())\n",
    "        precision = precision_score(targets.flatten(), predictions.flatten(), average='binary')\n",
    "        recall = recall_score(targets.flatten(), predictions.flatten(), average='binary')\n",
    "        f1 = f1_score(targets.flatten(), predictions.flatten(), average='binary')\n",
    "        \n",
    "        print(f\"{title}:\")\n",
    "        print(f\"  Accuracy: {accuracy:.4f}\")\n",
    "        print(f\"  Precision: {precision:.4f}\")\n",
    "        print(f\"  Recall: {recall:.4f}\")\n",
    "        print(f\"  F1-score: {f1:.4f}\")\n",
    "\n",
    "    def save_model(self, model_path='yambi_model.pth'):\n",
    "        \"\"\"\n",
    "        Save the trained model to a file.\n",
    "\n",
    "        Args:\n",
    "        - model_path (str): File path to save the model (default: 'yambi_model.pth').\n",
    "        \"\"\"\n",
    "        torch.save(self.model.state_dict(), model_path)\n",
    "\n",
    "    def load_model(self, model_path='yambi_model.pth'):\n",
    "        \"\"\"\n",
    "        Load a pre-trained model from a file.\n",
    "\n",
    "        Args:\n",
    "        - model_path (str): File path to load the model from (default: 'yambi_model.pth').\n",
    "        \"\"\"\n",
    "        self.model.load_state_dict(torch.load(model_path, map_location=self.device))\n",
    "        self.model.eval()  #set model to evaluation mode after loading"
   ]
  },
  {
   "cell_type": "code",
   "execution_count": 32,
   "id": "a7bb1118",
   "metadata": {
    "execution": {
     "iopub.execute_input": "2024-06-29T13:30:52.879112Z",
     "iopub.status.busy": "2024-06-29T13:30:52.878630Z",
     "iopub.status.idle": "2024-06-29T13:30:52.886665Z",
     "shell.execute_reply": "2024-06-29T13:30:52.885571Z"
    },
    "papermill": {
     "duration": 0.025349,
     "end_time": "2024-06-29T13:30:52.889046",
     "exception": false,
     "start_time": "2024-06-29T13:30:52.863697",
     "status": "completed"
    },
    "tags": []
   },
   "outputs": [],
   "source": [
    "class ARCModelDeployer:\n",
    "    \"\"\"\n",
    "    ARCModelDeployer: Class to deploy YambiModel for making predictions.\n",
    "\n",
    "    Attributes:\n",
    "    - model (YambiModel): YambiModel instance for making predictions.\n",
    "    - device (str): Device ('cpu' or 'cuda') on which the model is deployed.\n",
    "    \"\"\"\n",
    "\n",
    "    def __init__(self, model, device='cpu'):\n",
    "        \"\"\"\n",
    "        Initialize ARCModelDeployer with a YambiModel instance.\n",
    "\n",
    "        Args:\n",
    "        - model (YambiModel): Instance of YambiModel for making predictions.\n",
    "        - device (str): Device to deploy the model on, 'cpu' or 'cuda' (default: 'cpu').\n",
    "        \"\"\"\n",
    "        self.model = model\n",
    "        self.device = device\n",
    "        self.model.to(device)\n",
    "        self.model.eval()\n",
    "\n",
    "    def predict(self, input_data):\n",
    "        \"\"\"\n",
    "        Make predictions using the deployed YambiModel.\n",
    "\n",
    "        Args:\n",
    "        - input_data (np.ndarray or torch.Tensor): Input data for predictions.\n",
    "\n",
    "        Returns:\n",
    "        - np.ndarray: Predicted outputs for the input data.\n",
    "        \"\"\"\n",
    "        if isinstance(input_data, np.ndarray):\n",
    "            input_data = torch.from_numpy(input_data).float()\n",
    "        input_data = input_data.to(self.device)\n",
    "        with torch.no_grad():\n",
    "            outputs = self.model(input_data)\n",
    "        return outputs.cpu().numpy()"
   ]
  },
  {
   "cell_type": "code",
   "execution_count": 33,
   "id": "0100af60",
   "metadata": {
    "execution": {
     "iopub.execute_input": "2024-06-29T13:30:52.918151Z",
     "iopub.status.busy": "2024-06-29T13:30:52.917753Z",
     "iopub.status.idle": "2024-06-29T13:30:52.925823Z",
     "shell.execute_reply": "2024-06-29T13:30:52.924720Z"
    },
    "papermill": {
     "duration": 0.025425,
     "end_time": "2024-06-29T13:30:52.928077",
     "exception": false,
     "start_time": "2024-06-29T13:30:52.902652",
     "status": "completed"
    },
    "tags": []
   },
   "outputs": [],
   "source": [
    "class ARCDataLoader:\n",
    "    \"\"\"\n",
    "    ARCDataLoader: Class to load and preprocess ARC data for training YambiModel.\n",
    "\n",
    "    Attributes:\n",
    "    - X_train (np.ndarray): Training input data (grids).\n",
    "    - Y_train (np.ndarray): Training output data (grids).\n",
    "    - X_test (np.ndarray): Test input data (grids).\n",
    "    - Y_test (np.ndarray): Test output data (grids).\n",
    "    - batch_size (int): Size of mini-batches for training.\n",
    "    \"\"\"\n",
    "\n",
    "    def __init__(self, X_train, Y_train, X_test, Y_test, batch_size=32):\n",
    "        \"\"\"\n",
    "        Initialize ARCDataLoader with training and test data.\n",
    "\n",
    "        Args:\n",
    "        - X_train (np.ndarray): Training input data (grids).\n",
    "        - Y_train (np.ndarray): Training output data (grids).\n",
    "        - X_test (np.ndarray): Test input data (grids).\n",
    "        - Y_test (np.ndarray): Test output data (grids).\n",
    "        - batch_size (int): Size of mini-batches for training (default: 32).\n",
    "        \"\"\"\n",
    "        self.X_train = X_train\n",
    "        self.Y_train = Y_train\n",
    "        self.X_test = X_test\n",
    "        self.Y_test = Y_test\n",
    "        self.batch_size = batch_size\n",
    "\n",
    "    def get_train_loader(self):\n",
    "        \"\"\"\n",
    "        Create and return a DataLoader for training data.\n",
    "\n",
    "        Returns:\n",
    "        - torch.utils.data.DataLoader: DataLoader for training data.\n",
    "        \"\"\"\n",
    "        train_dataset = torch.utils.data.TensorDataset(torch.from_numpy(self.X_train).float(),\n",
    "                                                       torch.from_numpy(self.Y_train).float())\n",
    "        train_loader = torch.utils.data.DataLoader(train_dataset, batch_size=self.batch_size, shuffle=True)\n",
    "        return train_loader\n",
    "\n",
    "    def get_test_data(self):\n",
    "        \"\"\"\n",
    "        Get test data in numpy arrays.\n",
    "\n",
    "        Returns:\n",
    "        - np.ndarray: Test input data (X_test).\n",
    "        - np.ndarray: Test output data (Y_test).\n",
    "        \"\"\"\n",
    "        return self.X_test, self.Y_test"
   ]
  },
  {
   "cell_type": "code",
   "execution_count": 34,
   "id": "913fc91f",
   "metadata": {
    "execution": {
     "iopub.execute_input": "2024-06-29T13:30:52.956921Z",
     "iopub.status.busy": "2024-06-29T13:30:52.956530Z",
     "iopub.status.idle": "2024-06-29T13:30:52.965617Z",
     "shell.execute_reply": "2024-06-29T13:30:52.964521Z"
    },
    "papermill": {
     "duration": 0.026064,
     "end_time": "2024-06-29T13:30:52.967875",
     "exception": false,
     "start_time": "2024-06-29T13:30:52.941811",
     "status": "completed"
    },
    "tags": []
   },
   "outputs": [],
   "source": [
    "#convert them back to numpy arrays\n",
    "\n",
    "X_train_numpy = X_train.numpy()\n",
    "Y_train_numpy = Y_train.numpy()"
   ]
  },
  {
   "cell_type": "code",
   "execution_count": 35,
   "id": "7a5f11e8",
   "metadata": {
    "execution": {
     "iopub.execute_input": "2024-06-29T13:30:52.997023Z",
     "iopub.status.busy": "2024-06-29T13:30:52.996600Z",
     "iopub.status.idle": "2024-06-29T13:30:53.003446Z",
     "shell.execute_reply": "2024-06-29T13:30:53.002271Z"
    },
    "papermill": {
     "duration": 0.02443,
     "end_time": "2024-06-29T13:30:53.005870",
     "exception": false,
     "start_time": "2024-06-29T13:30:52.981440",
     "status": "completed"
    },
    "tags": []
   },
   "outputs": [],
   "source": [
    "#convert data into PyTorch TensorDataset\n",
    "train_dataset = TensorDataset(torch.from_numpy(X_train_numpy).float(), torch.from_numpy(Y_train_numpy).float())"
   ]
  },
  {
   "cell_type": "code",
   "execution_count": 36,
   "id": "a7cdd958",
   "metadata": {
    "execution": {
     "iopub.execute_input": "2024-06-29T13:30:53.034927Z",
     "iopub.status.busy": "2024-06-29T13:30:53.034527Z",
     "iopub.status.idle": "2024-06-29T13:30:53.039825Z",
     "shell.execute_reply": "2024-06-29T13:30:53.038823Z"
    },
    "papermill": {
     "duration": 0.022485,
     "end_time": "2024-06-29T13:30:53.042231",
     "exception": false,
     "start_time": "2024-06-29T13:30:53.019746",
     "status": "completed"
    },
    "tags": []
   },
   "outputs": [],
   "source": [
    "#create DataLoaders for training and test\n",
    "batch_size = 32\n",
    "train_loader = DataLoader(train_dataset, batch_size=batch_size, shuffle=True)"
   ]
  },
  {
   "cell_type": "code",
   "execution_count": 37,
   "id": "95458a58",
   "metadata": {
    "execution": {
     "iopub.execute_input": "2024-06-29T13:30:53.070814Z",
     "iopub.status.busy": "2024-06-29T13:30:53.070404Z",
     "iopub.status.idle": "2024-06-29T13:30:54.783371Z",
     "shell.execute_reply": "2024-06-29T13:30:54.782255Z"
    },
    "papermill": {
     "duration": 1.730533,
     "end_time": "2024-06-29T13:30:54.786334",
     "exception": false,
     "start_time": "2024-06-29T13:30:53.055801",
     "status": "completed"
    },
    "tags": []
   },
   "outputs": [],
   "source": [
    "#instantiate the YambiModel\n",
    "model = YambiModel()\n",
    "\n",
    "#move the model to the appropriate device (GPU if available, otherwise CPU)\n",
    "device = torch.device(\"cuda\" if torch.cuda.is_available() else \"cpu\")\n",
    "model.to(device)\n",
    "\n",
    "#define the loss function\n",
    "criterion = nn.BCELoss()\n",
    "\n",
    "#define the optimizer, passing model parameters and learning rate\n",
    "optimizer = optim.Adam(model.parameters(), lr=0.001)"
   ]
  },
  {
   "cell_type": "code",
   "execution_count": 38,
   "id": "73217e7d",
   "metadata": {
    "execution": {
     "iopub.execute_input": "2024-06-29T13:30:54.816149Z",
     "iopub.status.busy": "2024-06-29T13:30:54.815579Z",
     "iopub.status.idle": "2024-06-29T13:30:54.822413Z",
     "shell.execute_reply": "2024-06-29T13:30:54.821236Z"
    },
    "papermill": {
     "duration": 0.024363,
     "end_time": "2024-06-29T13:30:54.824841",
     "exception": false,
     "start_time": "2024-06-29T13:30:54.800478",
     "status": "completed"
    },
    "tags": []
   },
   "outputs": [],
   "source": [
    "#instantiate ARCTrainer with train_loader\n",
    "trainer = ARCTrainer(model=model, train_loader=train_loader)"
   ]
  },
  {
   "cell_type": "code",
   "execution_count": 39,
   "id": "01b873bb",
   "metadata": {
    "execution": {
     "iopub.execute_input": "2024-06-29T13:30:54.855656Z",
     "iopub.status.busy": "2024-06-29T13:30:54.855287Z",
     "iopub.status.idle": "2024-06-29T13:31:36.903514Z",
     "shell.execute_reply": "2024-06-29T13:31:36.902192Z"
    },
    "papermill": {
     "duration": 42.06687,
     "end_time": "2024-06-29T13:31:36.906171",
     "exception": false,
     "start_time": "2024-06-29T13:30:54.839301",
     "status": "completed"
    },
    "tags": []
   },
   "outputs": [
    {
     "name": "stdout",
     "output_type": "stream",
     "text": [
      "Epoch [1/10], Loss: 0.6414\n",
      "Epoch [2/10], Loss: 0.2941\n",
      "Epoch [3/10], Loss: 0.1843\n",
      "Epoch [4/10], Loss: 0.1792\n",
      "Epoch [5/10], Loss: 0.1609\n",
      "Epoch [6/10], Loss: 0.1508\n",
      "Epoch [7/10], Loss: 0.1403\n",
      "Epoch [8/10], Loss: 0.1278\n",
      "Epoch [9/10], Loss: 0.1183\n",
      "Epoch [10/10], Loss: 0.1097\n"
     ]
    }
   ],
   "source": [
    "def train_model(model, train_loader, criterion, optimizer, device, num_epochs=10):\n",
    "    model.train()\n",
    "    model.to(device)  #move model to the correct device (CPU or GPU)\n",
    "    \n",
    "    for epoch in range(num_epochs):\n",
    "        running_loss = 0.0\n",
    "        for inputs, targets in train_loader:\n",
    "            inputs, targets = inputs.to(device), targets.to(device)\n",
    "            optimizer.zero_grad()\n",
    "            outputs = model(inputs)\n",
    "            loss = criterion(outputs, targets)\n",
    "            loss.backward()\n",
    "            optimizer.step()\n",
    "            running_loss += loss.item()\n",
    "        \n",
    "        print(f\"Epoch [{epoch+1}/{num_epochs}], Loss: {running_loss/len(train_loader):.4f}\")\n",
    "    \n",
    "    model.save_model()\n",
    "\n",
    "train_model(model, train_loader, criterion, optimizer, device)"
   ]
  },
  {
   "cell_type": "code",
   "execution_count": 40,
   "id": "79c36bc8",
   "metadata": {
    "execution": {
     "iopub.execute_input": "2024-06-29T13:31:36.936795Z",
     "iopub.status.busy": "2024-06-29T13:31:36.935757Z",
     "iopub.status.idle": "2024-06-29T13:31:36.942416Z",
     "shell.execute_reply": "2024-06-29T13:31:36.941301Z"
    },
    "papermill": {
     "duration": 0.024354,
     "end_time": "2024-06-29T13:31:36.944655",
     "exception": false,
     "start_time": "2024-06-29T13:31:36.920301",
     "status": "completed"
    },
    "tags": []
   },
   "outputs": [],
   "source": [
    "def predict(model, data_loader, device='cpu'):\n",
    "    model.eval()\n",
    "    all_outputs = []\n",
    "    with torch.no_grad():\n",
    "        for inputs in data_loader:\n",
    "            inputs = inputs[0].to(device)  #get the first element (inputs) and send to device\n",
    "            outputs = model(inputs)\n",
    "            all_outputs.append(outputs.cpu().numpy())\n",
    "    return np.concatenate(all_outputs)"
   ]
  },
  {
   "cell_type": "code",
   "execution_count": 41,
   "id": "0a1e8f7a",
   "metadata": {
    "execution": {
     "iopub.execute_input": "2024-06-29T13:31:36.975557Z",
     "iopub.status.busy": "2024-06-29T13:31:36.975177Z",
     "iopub.status.idle": "2024-06-29T13:31:36.981122Z",
     "shell.execute_reply": "2024-06-29T13:31:36.980003Z"
    },
    "papermill": {
     "duration": 0.023911,
     "end_time": "2024-06-29T13:31:36.983370",
     "exception": false,
     "start_time": "2024-06-29T13:31:36.959459",
     "status": "completed"
    },
    "tags": []
   },
   "outputs": [],
   "source": [
    "#format the output\n",
    "def format_output(ids, predictions):\n",
    "    formatted_output = {}\n",
    "    for idx, id_val in enumerate(ids):\n",
    "        pred = predictions[idx].astype(int).tolist()\n",
    "        formatted_output[id_val] = [{\"attempt_1\": pred, \"attempt_2\": pred}]\n",
    "    return formatted_output"
   ]
  },
  {
   "cell_type": "code",
   "execution_count": 42,
   "id": "987be95c",
   "metadata": {
    "execution": {
     "iopub.execute_input": "2024-06-29T13:31:37.015995Z",
     "iopub.status.busy": "2024-06-29T13:31:37.014806Z",
     "iopub.status.idle": "2024-06-29T13:31:37.021569Z",
     "shell.execute_reply": "2024-06-29T13:31:37.020346Z"
    },
    "papermill": {
     "duration": 0.025685,
     "end_time": "2024-06-29T13:31:37.023901",
     "exception": false,
     "start_time": "2024-06-29T13:31:36.998216",
     "status": "completed"
    },
    "tags": []
   },
   "outputs": [],
   "source": [
    "if not isinstance(X_test, torch.Tensor):\n",
    "    X_test_tensor = torch.from_numpy(X_test).float()  #convert from NumPy array to tensor if necessary\n",
    "else:\n",
    "    X_test_tensor = X_test  #ese X_test directly if it's already a tensor\n",
    "\n",
    "#create TensorDataset\n",
    "test_dataset = TensorDataset(X_test_tensor)\n",
    "\n",
    "batch_size = 32\n",
    "test_loader = DataLoader(test_dataset, batch_size=batch_size, shuffle=False)"
   ]
  },
  {
   "cell_type": "code",
   "execution_count": 43,
   "id": "89fcecad",
   "metadata": {
    "execution": {
     "iopub.execute_input": "2024-06-29T13:31:37.054306Z",
     "iopub.status.busy": "2024-06-29T13:31:37.053877Z",
     "iopub.status.idle": "2024-06-29T13:31:37.220875Z",
     "shell.execute_reply": "2024-06-29T13:31:37.218840Z"
    },
    "papermill": {
     "duration": 0.18541,
     "end_time": "2024-06-29T13:31:37.223506",
     "exception": false,
     "start_time": "2024-06-29T13:31:37.038096",
     "status": "completed"
    },
    "tags": []
   },
   "outputs": [],
   "source": [
    "#predict the output for the test dataset\n",
    "predictions = predict(model, test_loader, device=device)"
   ]
  },
  {
   "cell_type": "code",
   "execution_count": 44,
   "id": "bbd58048",
   "metadata": {
    "execution": {
     "iopub.execute_input": "2024-06-29T13:31:37.253388Z",
     "iopub.status.busy": "2024-06-29T13:31:37.252987Z",
     "iopub.status.idle": "2024-06-29T13:31:37.341078Z",
     "shell.execute_reply": "2024-06-29T13:31:37.339560Z"
    },
    "papermill": {
     "duration": 0.106036,
     "end_time": "2024-06-29T13:31:37.343733",
     "exception": false,
     "start_time": "2024-06-29T13:31:37.237697",
     "status": "completed"
    },
    "tags": []
   },
   "outputs": [],
   "source": [
    "from sklearn.metrics import accuracy_score, precision_score, recall_score, f1_score\n",
    "\n",
    "def calculate_metrics(predictions, targets):\n",
    "    if isinstance(predictions, torch.Tensor):\n",
    "        predictions = predictions.cpu().numpy()  #convert PyTorch tensor to NumPy array\n",
    "    if isinstance(targets, torch.Tensor):\n",
    "        targets = targets.cpu().numpy()  #convert PyTorch tensor to NumPy array\n",
    "    \n",
    "    predictions = (predictions > 0.5).astype(int).flatten()\n",
    "    targets = targets.astype(int).flatten()\n",
    "    \n",
    "    accuracy = accuracy_score(targets, predictions)\n",
    "    precision = precision_score(targets, predictions, average='binary') \n",
    "    recall = recall_score(targets, predictions, average='binary')\n",
    "    f1 = f1_score(targets, predictions, average='binary') \n",
    "    \n",
    "    return accuracy, precision, recall, f1\n",
    "\n",
    "#calculate metrics\n",
    "accuracy, precision, recall, f1 = calculate_metrics(predictions, Y_test)"
   ]
  },
  {
   "cell_type": "code",
   "execution_count": 45,
   "id": "c65342ab",
   "metadata": {
    "execution": {
     "iopub.execute_input": "2024-06-29T13:31:37.373619Z",
     "iopub.status.busy": "2024-06-29T13:31:37.373221Z",
     "iopub.status.idle": "2024-06-29T13:31:37.380003Z",
     "shell.execute_reply": "2024-06-29T13:31:37.378684Z"
    },
    "papermill": {
     "duration": 0.0245,
     "end_time": "2024-06-29T13:31:37.382383",
     "exception": false,
     "start_time": "2024-06-29T13:31:37.357883",
     "status": "completed"
    },
    "tags": []
   },
   "outputs": [
    {
     "name": "stdout",
     "output_type": "stream",
     "text": [
      "ARC Score Metrics:\n",
      "  Accuracy: 0.9405\n",
      "  Precision: 0.5172\n",
      "  Recall: 0.3296\n",
      "  F1-score: 0.4026\n"
     ]
    }
   ],
   "source": [
    "#print metrics\n",
    "print(f\"ARC Score Metrics:\")\n",
    "print(f\"  Accuracy: {accuracy:.4f}\")\n",
    "print(f\"  Precision: {precision:.4f}\")\n",
    "print(f\"  Recall: {recall:.4f}\")\n",
    "print(f\"  F1-score: {f1:.4f}\")"
   ]
  },
  {
   "cell_type": "code",
   "execution_count": 46,
   "id": "297b5572",
   "metadata": {
    "execution": {
     "iopub.execute_input": "2024-06-29T13:31:37.414249Z",
     "iopub.status.busy": "2024-06-29T13:31:37.413745Z",
     "iopub.status.idle": "2024-06-29T13:31:37.510086Z",
     "shell.execute_reply": "2024-06-29T13:31:37.509010Z"
    },
    "papermill": {
     "duration": 0.115421,
     "end_time": "2024-06-29T13:31:37.512680",
     "exception": false,
     "start_time": "2024-06-29T13:31:37.397259",
     "status": "completed"
    },
    "tags": []
   },
   "outputs": [],
   "source": [
    "file_path = '/kaggle/input/arc-prize-2024/arc-agi_evaluation_challenges.json'\n",
    "\n",
    "def extract_ids_from_json(file_path):\n",
    "    with open(file_path, 'r') as f:\n",
    "        data = json.load(f)\n",
    "    \n",
    "    if 'challenges' in data:\n",
    "        return [challenge['id'] for challenge in data['challenges']]\n",
    "    else:\n",
    "        return []\n",
    "\n",
    "#extract IDs from the specified JSON file\n",
    "all_ids = extract_ids_from_json(file_path)"
   ]
  },
  {
   "cell_type": "code",
   "execution_count": 47,
   "id": "47b838b8",
   "metadata": {
    "execution": {
     "iopub.execute_input": "2024-06-29T13:31:37.543225Z",
     "iopub.status.busy": "2024-06-29T13:31:37.542819Z",
     "iopub.status.idle": "2024-06-29T13:31:37.548013Z",
     "shell.execute_reply": "2024-06-29T13:31:37.546830Z"
    },
    "papermill": {
     "duration": 0.023798,
     "end_time": "2024-06-29T13:31:37.550849",
     "exception": false,
     "start_time": "2024-06-29T13:31:37.527051",
     "status": "completed"
    },
    "tags": []
   },
   "outputs": [],
   "source": [
    "#format the output\n",
    "formatted_output = format_output(all_ids, predictions)"
   ]
  },
  {
   "cell_type": "code",
   "execution_count": 48,
   "id": "79c57518",
   "metadata": {
    "execution": {
     "iopub.execute_input": "2024-06-29T13:31:37.582967Z",
     "iopub.status.busy": "2024-06-29T13:31:37.582583Z",
     "iopub.status.idle": "2024-06-29T13:31:37.587496Z",
     "shell.execute_reply": "2024-06-29T13:31:37.586306Z"
    },
    "papermill": {
     "duration": 0.024452,
     "end_time": "2024-06-29T13:31:37.589804",
     "exception": false,
     "start_time": "2024-06-29T13:31:37.565352",
     "status": "completed"
    },
    "tags": []
   },
   "outputs": [],
   "source": [
    "submission_file = '/kaggle/working/submission.json'"
   ]
  },
  {
   "cell_type": "code",
   "execution_count": 49,
   "id": "7f9d170a",
   "metadata": {
    "execution": {
     "iopub.execute_input": "2024-06-29T13:31:37.620671Z",
     "iopub.status.busy": "2024-06-29T13:31:37.619593Z",
     "iopub.status.idle": "2024-06-29T13:31:37.624629Z",
     "shell.execute_reply": "2024-06-29T13:31:37.623631Z"
    },
    "papermill": {
     "duration": 0.022796,
     "end_time": "2024-06-29T13:31:37.626964",
     "exception": false,
     "start_time": "2024-06-29T13:31:37.604168",
     "status": "completed"
    },
    "tags": []
   },
   "outputs": [],
   "source": [
    "#serialize formatted_output to json format\n",
    "json_predictions = json.dumps(formatted_output, indent=2)"
   ]
  },
  {
   "cell_type": "code",
   "execution_count": 50,
   "id": "a743927b",
   "metadata": {
    "execution": {
     "iopub.execute_input": "2024-06-29T13:31:37.657709Z",
     "iopub.status.busy": "2024-06-29T13:31:37.656638Z",
     "iopub.status.idle": "2024-06-29T13:31:37.663011Z",
     "shell.execute_reply": "2024-06-29T13:31:37.661911Z"
    },
    "papermill": {
     "duration": 0.024583,
     "end_time": "2024-06-29T13:31:37.665825",
     "exception": false,
     "start_time": "2024-06-29T13:31:37.641242",
     "status": "completed"
    },
    "tags": []
   },
   "outputs": [
    {
     "name": "stdout",
     "output_type": "stream",
     "text": [
      "Submission file '/kaggle/working/submission.json' created successfully.\n"
     ]
    }
   ],
   "source": [
    "#save json to submission.json\n",
    "with open(submission_file, 'w') as file:\n",
    "    file.write(json_predictions)\n",
    "\n",
    "print(f\"Submission file '{submission_file}' created successfully.\")"
   ]
  }
 ],
 "metadata": {
  "kaggle": {
   "accelerator": "none",
   "dataSources": [
    {
     "databundleVersionId": 8951125,
     "sourceId": 67357,
     "sourceType": "competition"
    }
   ],
   "dockerImageVersionId": 30732,
   "isGpuEnabled": false,
   "isInternetEnabled": false,
   "language": "python",
   "sourceType": "notebook"
  },
  "kernelspec": {
   "display_name": "Python 3",
   "language": "python",
   "name": "python3"
  },
  "language_info": {
   "codemirror_mode": {
    "name": "ipython",
    "version": 3
   },
   "file_extension": ".py",
   "mimetype": "text/x-python",
   "name": "python",
   "nbconvert_exporter": "python",
   "pygments_lexer": "ipython3",
   "version": "3.10.13"
  },
  "papermill": {
   "default_parameters": {},
   "duration": 58.204375,
   "end_time": "2024-06-29T13:31:38.903915",
   "environment_variables": {},
   "exception": null,
   "input_path": "__notebook__.ipynb",
   "output_path": "__notebook__.ipynb",
   "parameters": {},
   "start_time": "2024-06-29T13:30:40.699540",
   "version": "2.5.0"
  }
 },
 "nbformat": 4,
 "nbformat_minor": 5
}
